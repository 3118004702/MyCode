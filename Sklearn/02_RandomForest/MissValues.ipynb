{
 "cells": [
  {
   "cell_type": "markdown",
   "id": "33879b9a",
   "metadata": {},
   "source": [
    "# 用随机森林回归填补缺失值"
   ]
  },
  {
   "cell_type": "markdown",
   "id": "42a9a509",
   "metadata": {},
   "source": [
    "# 1.导入需要的库"
   ]
  },
  {
   "cell_type": "code",
   "execution_count": 34,
   "id": "6695b57d",
   "metadata": {},
   "outputs": [],
   "source": [
    "import numpy as np\n",
    "import pandas as pd\n",
    "from matplotlib import pyplot as plt\n",
    "from sklearn.datasets import load_boston\n",
    "from sklearn.ensemble import RandomForestRegressor\n",
    "from sklearn.impute import SimpleImputer       #可以用来轻松的将均值，中值或其他常用的数值填充到数据里\n",
    "from sklearn.model_selection import cross_val_score"
   ]
  },
  {
   "cell_type": "markdown",
   "id": "ef832015",
   "metadata": {},
   "source": [
    "# 2.以波士顿数据为例，导入完整的数据集并探索"
   ]
  },
  {
   "cell_type": "code",
   "execution_count": 4,
   "id": "2ec80db9",
   "metadata": {},
   "outputs": [],
   "source": [
    "dataset = load_boston()"
   ]
  },
  {
   "cell_type": "code",
   "execution_count": 8,
   "id": "4115d7da",
   "metadata": {},
   "outputs": [
    {
     "data": {
      "text/plain": [
       "(506, 13)"
      ]
     },
     "execution_count": 8,
     "metadata": {},
     "output_type": "execute_result"
    }
   ],
   "source": [
    "#总共506*13=6578个数据\n",
    "dataset.data.shape"
   ]
  },
  {
   "cell_type": "code",
   "execution_count": 9,
   "id": "b1c71a27",
   "metadata": {},
   "outputs": [],
   "source": [
    "#将数据放入x_full,y_full，避免影响原数据\n",
    "x_full, y_full = dataset.data, dataset.target\n",
    "#例子个数\n",
    "n_samples = x_full.shape[0]       \n",
    "#特征个数\n",
    "n_features = x_full.shape[1]"
   ]
  },
  {
   "cell_type": "markdown",
   "id": "1d72318f",
   "metadata": {},
   "source": [
    "## 3.为完整数据放入缺失值"
   ]
  },
  {
   "cell_type": "code",
   "execution_count": 10,
   "id": "b9d59699",
   "metadata": {},
   "outputs": [],
   "source": [
    "# 1.确定缺失率，求出缺失数据个数\n",
    "missing_rate = 0.5\n",
    "n_missing_samples = int(np.floor(n_samples*n_features*missing_rate))\n",
    "\n",
    "# 2.生成要替换成缺失数据的坐标\n",
    "rng = np.random.RandomState(0)\n",
    "missing_samples = rng.randint(0, n_samples, n_missing_samples)\n",
    "missing_features = rng.randint(0, n_features, n_missing_samples)\n",
    "\n",
    "# 3.从x_full, y_full中赋值数据，避免影响x_full,y_full\n",
    "x_missing = x_full.copy()\n",
    "y_missing = y_full.copy()\n",
    "\n",
    "# 4.替换数据np.nan\n",
    "x_missing[missing_samples, missing_features] = np.nan\n",
    "\n",
    "# 5.将缺失矩阵替换成DataFrame\n",
    "x_missing = pd.DataFrame(x_missing)"
   ]
  },
  {
   "cell_type": "markdown",
   "id": "7856bbe1",
   "metadata": {},
   "source": [
    "## 4.使用0和均值填补缺失值"
   ]
  },
  {
   "cell_type": "code",
   "execution_count": 11,
   "id": "334191db",
   "metadata": {},
   "outputs": [],
   "source": [
    "# 使用0进行填补\n",
    "imp_0 = SimpleImputer(missing_values = np.nan, strategy = \"constant\", fill_value = 0)\n",
    "x_missing_0 = imp_0.fit_transform(x_missing)    #将缺失数据替换为0并且输出来\n",
    "\n",
    "# 使用均值\n",
    "imp_mean = SimpleImputer(missing_values = np.nan, strategy = 'mean')\n",
    "x_missing_mean = imp_mean.fit_transform(x_missing)"
   ]
  },
  {
   "cell_type": "markdown",
   "id": "bb7b60e7",
   "metadata": {},
   "source": [
    "## 5.使用随机森立填补缺失值"
   ]
  },
  {
   "cell_type": "code",
   "execution_count": 29,
   "id": "c982a364",
   "metadata": {},
   "outputs": [],
   "source": [
    "# 获取每列含缺失值的个数，并进行排序\n",
    "x_missing_reg = x_missing.copy()\n",
    "sortindex = np.argsort(x_missing_reg.isnull().sum(axis=0)).values"
   ]
  },
  {
   "cell_type": "code",
   "execution_count": 31,
   "id": "21191d51",
   "metadata": {},
   "outputs": [],
   "source": [
    "# 从缺失值最少的列开始，对每列使用随机森林填补缺失值\n",
    "for i in sortindex:\n",
    "    # 1.构建我们的新特征矩阵和新标签（缺失值最少的列）\n",
    "    df = x_missing_reg.copy()\n",
    "    fillc = df.iloc[:,i]\n",
    "    df = pd.concat([df.iloc[:,df.columns != i],pd.DataFrame(y_full)],axis=1)\n",
    "    \n",
    "    # 2.在新矩阵中，对含有缺失值的列用0填补\n",
    "    df_0 = SimpleImputer(missing_values = np.nan\n",
    "                        ,strategy = \"constant\"\n",
    "                        ,fill_value = 0).fit_transform(df)\n",
    "    \n",
    "    # 3.求出训练集和测试集\n",
    "    Ytrain = fillc[fillc.notnull()]\n",
    "    Ytest = fillc[fillc.isnull()]\n",
    "    Xtrain = df_0[Ytrain.index,:]\n",
    "    Xtest = df_0[Ytest.index,:]\n",
    "    \n",
    "    # 4.用随机森林回归来填补标签列缺失值\n",
    "    rfc = RandomForestRegressor(n_estimators = 100)\n",
    "    rfc = rfc.fit(Xtrain, Ytrain)\n",
    "    Ypredict = rfc.predict(Xtest)\n",
    "    \n",
    "    # 5.将填补好的特征值替换原来特征矩阵的缺失值\n",
    "    x_missing_reg.loc[x_missing_reg.iloc[:,i].isnull(),i] = Ypredict\n",
    "    "
   ]
  },
  {
   "cell_type": "markdown",
   "id": "375cbb5d",
   "metadata": {},
   "source": [
    "## 6.对填补好的数据进行建模测试误差"
   ]
  },
  {
   "cell_type": "code",
   "execution_count": 36,
   "id": "a915eca3",
   "metadata": {},
   "outputs": [],
   "source": [
    "X = [x_full, x_missing_mean, x_missing_0, x_missing_reg]\n",
    "\n",
    "mse = []\n",
    "\n",
    "for x in X:\n",
    "    estimator = RandomForestRegressor(random_state = 0, n_estimators = 100)\n",
    "    scores = cross_val_score(estimator, x, y_full,scoring = 'neg_mean_squared_error', cv = 5).mean()\n",
    "    mse.append(-1*scores)"
   ]
  },
  {
   "cell_type": "markdown",
   "id": "ed5a21d3",
   "metadata": {},
   "source": [
    "## 7.用所得结果画出条形图"
   ]
  },
  {
   "cell_type": "code",
   "execution_count": 40,
   "id": "edbf229d",
   "metadata": {},
   "outputs": [
    {
     "data": {
      "image/png": "[encoded data removed]",
      "text/plain": [
       "<Figure size 864x432 with 1 Axes>"
      ]
     },
     "metadata": {
      "needs_background": "light"
     },
     "output_type": "display_data"
    }
   ],
   "source": [
    "plt.figure(figsize = (12,6))\n",
    "\n",
    "colors = ['r', 'g', 'b', 'orange']\n",
    "\n",
    "ax = plt.subplot(111)\n",
    "for i in np.arange(len(mse)):\n",
    "    ax.barh(i, mse[i], color = colors[i], alpha = 0.6, align = 'center')\n",
    "\n",
    "ax.set_title('Imputation Techniques with Boston Data')\n",
    "\n",
    "ax.set_xlabel('MSE')\n",
    "\n",
    "ax.set_yticks(np.arange(len(mse)))\n",
    "\n",
    "x_labels = ['Full data',\n",
    "            'Zero Imputation',\n",
    "            'Mean Imputation',\n",
    "            'Regressor Imputation']\n",
    "\n",
    "ax.set_yticklabels(x_labels)\n",
    "\n",
    "plt.show()"
   ]
  },
  {
   "cell_type": "code",
   "execution_count": null,
   "id": "3e2b3321",
   "metadata": {},
   "outputs": [],
   "source": []
  },
  {
   "cell_type": "code",
   "execution_count": null,
   "id": "b2138949",
   "metadata": {},
   "outputs": [],
   "source": []
  },
  {
   "cell_type": "code",
   "execution_count": null,
   "id": "5dda599f",
   "metadata": {},
   "outputs": [],
   "source": []
  },
  {
   "cell_type": "code",
   "execution_count": null,
   "id": "f8f90d27",
   "metadata": {},
   "outputs": [],
   "source": []
  },
  {
   "cell_type": "code",
   "execution_count": null,
   "id": "37b6de1a",
   "metadata": {},
   "outputs": [],
   "source": []
  },
  {
   "cell_type": "code",
   "execution_count": null,
   "id": "aa2d29c9",
   "metadata": {},
   "outputs": [],
   "source": []
  },
  {
   "cell_type": "code",
   "execution_count": null,
   "id": "7e414f36",
   "metadata": {},
   "outputs": [],
   "source": []
  },
  {
   "cell_type": "code",
   "execution_count": null,
   "id": "a3b5bb90",
   "metadata": {},
   "outputs": [],
   "source": []
  }
 ],
 "metadata": {
  "kernelspec": {
   "display_name": "Python 3",
   "language": "python",
   "name": "python3"
  },
  "language_info": {
   "codemirror_mode": {
    "name": "ipython",
    "version": 3
   },
   "file_extension": ".py",
   "mimetype": "text/x-python",
   "name": "python",
   "nbconvert_exporter": "python",
   "pygments_lexer": "ipython3",
   "version": "3.8.8"
  }
 },
 "nbformat": 4,
 "nbformat_minor": 5
}
