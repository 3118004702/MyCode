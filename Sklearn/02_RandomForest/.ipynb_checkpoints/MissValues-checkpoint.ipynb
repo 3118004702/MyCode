{
 "cells": [
  {
   "cell_type": "markdown",
   "id": "e5b6f72c",
   "metadata": {},
   "source": [
    "# 用随机森林回归填补缺失值"
   ]
  },
  {
   "cell_type": "markdown",
   "id": "3f603d5c",
   "metadata": {},
   "source": [
    "# 1.导入需要的库"
   ]
  },
  {
   "cell_type": "code",
   "execution_count": null,
   "id": "649c70fa",
   "metadata": {},
   "outputs": [],
   "source": []
  }
 ],
 "metadata": {
  "kernelspec": {
   "display_name": "Python 3",
   "language": "python",
   "name": "python3"
  },
  "language_info": {
   "codemirror_mode": {
    "name": "ipython",
    "version": 3
   },
   "file_extension": ".py",
   "mimetype": "text/x-python",
   "name": "python",
   "nbconvert_exporter": "python",
   "pygments_lexer": "ipython3",
   "version": "3.8.8"
  }
 },
 "nbformat": 4,
 "nbformat_minor": 5
}
