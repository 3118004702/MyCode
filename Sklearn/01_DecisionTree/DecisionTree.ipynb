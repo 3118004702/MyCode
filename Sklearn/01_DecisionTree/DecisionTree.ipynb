{
 "cells": [
  {
   "cell_type": "markdown",
   "id": "a362c936",
   "metadata": {},
   "source": [
    "# 建立一棵树"
   ]
  },
  {
   "cell_type": "markdown",
   "id": "64094df5",
   "metadata": {},
   "source": [
    "## 1.导入需要的算法库和模块"
   ]
  },
  {
   "cell_type": "code",
   "execution_count": 20,
   "id": "c58dcecb",
   "metadata": {},
   "outputs": [],
   "source": [
    "import pandas as pd\n",
    "from sklearn import tree\n",
    "from sklearn.datasets import load_wine                      #生成数据集\n",
    "from sklearn.model_selection import train_test_split        #生成训练集和测试集"
   ]
  },
  {
   "cell_type": "markdown",
   "id": "2d12b7b0",
   "metadata": {},
   "source": [
    "## 2.探索数据"
   ]
  },
  {
   "cell_type": "code",
   "execution_count": 21,
   "id": "72fec707",
   "metadata": {},
   "outputs": [],
   "source": [
    "wine = load_wine()"
   ]
  },
  {
   "cell_type": "code",
   "execution_count": 22,
   "id": "1ea820fc",
   "metadata": {},
   "outputs": [
    {
     "data": {
      "text/plain": [
       "{'data': array([[1.423e+01, 1.710e+00, 2.430e+00, ..., 1.040e+00, 3.920e+00,\n",
       "         1.065e+03],\n",
       "        [1.320e+01, 1.780e+00, 2.140e+00, ..., 1.050e+00, 3.400e+00,\n",
       "         1.050e+03],\n",
       "        [1.316e+01, 2.360e+00, 2.670e+00, ..., 1.030e+00, 3.170e+00,\n",
       "         1.185e+03],\n",
       "        ...,\n",
       "        [1.327e+01, 4.280e+00, 2.260e+00, ..., 5.900e-01, 1.560e+00,\n",
       "         8.350e+02],\n",
       "        [1.317e+01, 2.590e+00, 2.370e+00, ..., 6.000e-01, 1.620e+00,\n",
       "         8.400e+02],\n",
       "        [1.413e+01, 4.100e+00, 2.740e+00, ..., 6.100e-01, 1.600e+00,\n",
       "         5.600e+02]]),\n",
       " 'target': array([0, 0, 0, 0, 0, 0, 0, 0, 0, 0, 0, 0, 0, 0, 0, 0, 0, 0, 0, 0, 0, 0,\n",
       "        0, 0, 0, 0, 0, 0, 0, 0, 0, 0, 0, 0, 0, 0, 0, 0, 0, 0, 0, 0, 0, 0,\n",
       "        0, 0, 0, 0, 0, 0, 0, 0, 0, 0, 0, 0, 0, 0, 0, 1, 1, 1, 1, 1, 1, 1,\n",
       "        1, 1, 1, 1, 1, 1, 1, 1, 1, 1, 1, 1, 1, 1, 1, 1, 1, 1, 1, 1, 1, 1,\n",
       "        1, 1, 1, 1, 1, 1, 1, 1, 1, 1, 1, 1, 1, 1, 1, 1, 1, 1, 1, 1, 1, 1,\n",
       "        1, 1, 1, 1, 1, 1, 1, 1, 1, 1, 1, 1, 1, 1, 1, 1, 1, 1, 1, 1, 2, 2,\n",
       "        2, 2, 2, 2, 2, 2, 2, 2, 2, 2, 2, 2, 2, 2, 2, 2, 2, 2, 2, 2, 2, 2,\n",
       "        2, 2, 2, 2, 2, 2, 2, 2, 2, 2, 2, 2, 2, 2, 2, 2, 2, 2, 2, 2, 2, 2,\n",
       "        2, 2]),\n",
       " 'frame': None,\n",
       " 'target_names': array(['class_0', 'class_1', 'class_2'], dtype='<U7'),\n",
       " 'DESCR': '.. _wine_dataset:\\n\\nWine recognition dataset\\n------------------------\\n\\n**Data Set Characteristics:**\\n\\n    :Number of Instances: 178 (50 in each of three classes)\\n    :Number of Attributes: 13 numeric, predictive attributes and the class\\n    :Attribute Information:\\n \\t\\t- Alcohol\\n \\t\\t- Malic acid\\n \\t\\t- Ash\\n\\t\\t- Alcalinity of ash  \\n \\t\\t- Magnesium\\n\\t\\t- Total phenols\\n \\t\\t- Flavanoids\\n \\t\\t- Nonflavanoid phenols\\n \\t\\t- Proanthocyanins\\n\\t\\t- Color intensity\\n \\t\\t- Hue\\n \\t\\t- OD280/OD315 of diluted wines\\n \\t\\t- Proline\\n\\n    - class:\\n            - class_0\\n            - class_1\\n            - class_2\\n\\t\\t\\n    :Summary Statistics:\\n    \\n    ============================= ==== ===== ======= =====\\n                                   Min   Max   Mean     SD\\n    ============================= ==== ===== ======= =====\\n    Alcohol:                      11.0  14.8    13.0   0.8\\n    Malic Acid:                   0.74  5.80    2.34  1.12\\n    Ash:                          1.36  3.23    2.36  0.27\\n    Alcalinity of Ash:            10.6  30.0    19.5   3.3\\n    Magnesium:                    70.0 162.0    99.7  14.3\\n    Total Phenols:                0.98  3.88    2.29  0.63\\n    Flavanoids:                   0.34  5.08    2.03  1.00\\n    Nonflavanoid Phenols:         0.13  0.66    0.36  0.12\\n    Proanthocyanins:              0.41  3.58    1.59  0.57\\n    Colour Intensity:              1.3  13.0     5.1   2.3\\n    Hue:                          0.48  1.71    0.96  0.23\\n    OD280/OD315 of diluted wines: 1.27  4.00    2.61  0.71\\n    Proline:                       278  1680     746   315\\n    ============================= ==== ===== ======= =====\\n\\n    :Missing Attribute Values: None\\n    :Class Distribution: class_0 (59), class_1 (71), class_2 (48)\\n    :Creator: R.A. Fisher\\n    :Donor: Michael Marshall (MARSHALL%PLU@io.arc.nasa.gov)\\n    :Date: July, 1988\\n\\nThis is a copy of UCI ML Wine recognition datasets.\\nhttps://archive.ics.uci.edu/ml/machine-learning-databases/wine/wine.data\\n\\nThe data is the results of a chemical analysis of wines grown in the same\\nregion in Italy by three different cultivators. There are thirteen different\\nmeasurements taken for different constituents found in the three types of\\nwine.\\n\\nOriginal Owners: \\n\\nForina, M. et al, PARVUS - \\nAn Extendible Package for Data Exploration, Classification and Correlation. \\nInstitute of Pharmaceutical and Food Analysis and Technologies,\\nVia Brigata Salerno, 16147 Genoa, Italy.\\n\\nCitation:\\n\\nLichman, M. (2013). UCI Machine Learning Repository\\n[https://archive.ics.uci.edu/ml]. Irvine, CA: University of California,\\nSchool of Information and Computer Science. \\n\\n.. topic:: References\\n\\n  (1) S. Aeberhard, D. Coomans and O. de Vel, \\n  Comparison of Classifiers in High Dimensional Settings, \\n  Tech. Rep. no. 92-02, (1992), Dept. of Computer Science and Dept. of  \\n  Mathematics and Statistics, James Cook University of North Queensland. \\n  (Also submitted to Technometrics). \\n\\n  The data was used with many others for comparing various \\n  classifiers. The classes are separable, though only RDA \\n  has achieved 100% correct classification. \\n  (RDA : 100%, QDA 99.4%, LDA 98.9%, 1NN 96.1% (z-transformed data)) \\n  (All results using the leave-one-out technique) \\n\\n  (2) S. Aeberhard, D. Coomans and O. de Vel, \\n  \"THE CLASSIFICATION PERFORMANCE OF RDA\" \\n  Tech. Rep. no. 92-01, (1992), Dept. of Computer Science and Dept. of \\n  Mathematics and Statistics, James Cook University of North Queensland. \\n  (Also submitted to Journal of Chemometrics).\\n',\n",
       " 'feature_names': ['alcohol',\n",
       "  'malic_acid',\n",
       "  'ash',\n",
       "  'alcalinity_of_ash',\n",
       "  'magnesium',\n",
       "  'total_phenols',\n",
       "  'flavanoids',\n",
       "  'nonflavanoid_phenols',\n",
       "  'proanthocyanins',\n",
       "  'color_intensity',\n",
       "  'hue',\n",
       "  'od280/od315_of_diluted_wines',\n",
       "  'proline']}"
      ]
     },
     "execution_count": 22,
     "metadata": {},
     "output_type": "execute_result"
    }
   ],
   "source": [
    "# 查看wine数据\n",
    "wine"
   ]
  },
  {
   "cell_type": "code",
   "execution_count": 23,
   "id": "a06fe6fa",
   "metadata": {},
   "outputs": [
    {
     "data": {
      "text/plain": [
       "array([[1.423e+01, 1.710e+00, 2.430e+00, ..., 1.040e+00, 3.920e+00,\n",
       "        1.065e+03],\n",
       "       [1.320e+01, 1.780e+00, 2.140e+00, ..., 1.050e+00, 3.400e+00,\n",
       "        1.050e+03],\n",
       "       [1.316e+01, 2.360e+00, 2.670e+00, ..., 1.030e+00, 3.170e+00,\n",
       "        1.185e+03],\n",
       "       ...,\n",
       "       [1.327e+01, 4.280e+00, 2.260e+00, ..., 5.900e-01, 1.560e+00,\n",
       "        8.350e+02],\n",
       "       [1.317e+01, 2.590e+00, 2.370e+00, ..., 6.000e-01, 1.620e+00,\n",
       "        8.400e+02],\n",
       "       [1.413e+01, 4.100e+00, 2.740e+00, ..., 6.100e-01, 1.600e+00,\n",
       "        5.600e+02]])"
      ]
     },
     "execution_count": 23,
     "metadata": {},
     "output_type": "execute_result"
    }
   ],
   "source": [
    "# 查看wine的data\n",
    "wine.data"
   ]
  },
  {
   "cell_type": "code",
   "execution_count": 24,
   "id": "abeda7f7",
   "metadata": {},
   "outputs": [
    {
     "data": {
      "text/plain": [
       "(178, 13)"
      ]
     },
     "execution_count": 24,
     "metadata": {},
     "output_type": "execute_result"
    }
   ],
   "source": [
    "# 查看wine.data的维度\n",
    "wine.data.shape"
   ]
  },
  {
   "cell_type": "code",
   "execution_count": 25,
   "id": "e691eac9",
   "metadata": {},
   "outputs": [
    {
     "data": {
      "text/plain": [
       "array([0, 0, 0, 0, 0, 0, 0, 0, 0, 0, 0, 0, 0, 0, 0, 0, 0, 0, 0, 0, 0, 0,\n",
       "       0, 0, 0, 0, 0, 0, 0, 0, 0, 0, 0, 0, 0, 0, 0, 0, 0, 0, 0, 0, 0, 0,\n",
       "       0, 0, 0, 0, 0, 0, 0, 0, 0, 0, 0, 0, 0, 0, 0, 1, 1, 1, 1, 1, 1, 1,\n",
       "       1, 1, 1, 1, 1, 1, 1, 1, 1, 1, 1, 1, 1, 1, 1, 1, 1, 1, 1, 1, 1, 1,\n",
       "       1, 1, 1, 1, 1, 1, 1, 1, 1, 1, 1, 1, 1, 1, 1, 1, 1, 1, 1, 1, 1, 1,\n",
       "       1, 1, 1, 1, 1, 1, 1, 1, 1, 1, 1, 1, 1, 1, 1, 1, 1, 1, 1, 1, 2, 2,\n",
       "       2, 2, 2, 2, 2, 2, 2, 2, 2, 2, 2, 2, 2, 2, 2, 2, 2, 2, 2, 2, 2, 2,\n",
       "       2, 2, 2, 2, 2, 2, 2, 2, 2, 2, 2, 2, 2, 2, 2, 2, 2, 2, 2, 2, 2, 2,\n",
       "       2, 2])"
      ]
     },
     "execution_count": 25,
     "metadata": {},
     "output_type": "execute_result"
    }
   ],
   "source": [
    "# 查看wine的标签\n",
    "wine.target"
   ]
  },
  {
   "cell_type": "code",
   "execution_count": 26,
   "id": "66009f91",
   "metadata": {},
   "outputs": [
    {
     "data": {
      "text/html": [
       "<div>\n",
       "<style scoped>\n",
       "    .dataframe tbody tr th:only-of-type {\n",
       "        vertical-align: middle;\n",
       "    }\n",
       "\n",
       "    .dataframe tbody tr th {\n",
       "        vertical-align: top;\n",
       "    }\n",
       "\n",
       "    .dataframe thead th {\n",
       "        text-align: right;\n",
       "    }\n",
       "</style>\n",
       "<table border=\"1\" class=\"dataframe\">\n",
       "  <thead>\n",
       "    <tr style=\"text-align: right;\">\n",
       "      <th></th>\n",
       "      <th>0</th>\n",
       "      <th>1</th>\n",
       "      <th>2</th>\n",
       "      <th>3</th>\n",
       "      <th>4</th>\n",
       "      <th>5</th>\n",
       "      <th>6</th>\n",
       "      <th>7</th>\n",
       "      <th>8</th>\n",
       "      <th>9</th>\n",
       "      <th>10</th>\n",
       "      <th>11</th>\n",
       "      <th>12</th>\n",
       "      <th>0</th>\n",
       "    </tr>\n",
       "  </thead>\n",
       "  <tbody>\n",
       "    <tr>\n",
       "      <th>0</th>\n",
       "      <td>14.23</td>\n",
       "      <td>1.71</td>\n",
       "      <td>2.43</td>\n",
       "      <td>15.6</td>\n",
       "      <td>127.0</td>\n",
       "      <td>2.80</td>\n",
       "      <td>3.06</td>\n",
       "      <td>0.28</td>\n",
       "      <td>2.29</td>\n",
       "      <td>5.64</td>\n",
       "      <td>1.04</td>\n",
       "      <td>3.92</td>\n",
       "      <td>1065.0</td>\n",
       "      <td>0</td>\n",
       "    </tr>\n",
       "    <tr>\n",
       "      <th>1</th>\n",
       "      <td>13.20</td>\n",
       "      <td>1.78</td>\n",
       "      <td>2.14</td>\n",
       "      <td>11.2</td>\n",
       "      <td>100.0</td>\n",
       "      <td>2.65</td>\n",
       "      <td>2.76</td>\n",
       "      <td>0.26</td>\n",
       "      <td>1.28</td>\n",
       "      <td>4.38</td>\n",
       "      <td>1.05</td>\n",
       "      <td>3.40</td>\n",
       "      <td>1050.0</td>\n",
       "      <td>0</td>\n",
       "    </tr>\n",
       "    <tr>\n",
       "      <th>2</th>\n",
       "      <td>13.16</td>\n",
       "      <td>2.36</td>\n",
       "      <td>2.67</td>\n",
       "      <td>18.6</td>\n",
       "      <td>101.0</td>\n",
       "      <td>2.80</td>\n",
       "      <td>3.24</td>\n",
       "      <td>0.30</td>\n",
       "      <td>2.81</td>\n",
       "      <td>5.68</td>\n",
       "      <td>1.03</td>\n",
       "      <td>3.17</td>\n",
       "      <td>1185.0</td>\n",
       "      <td>0</td>\n",
       "    </tr>\n",
       "    <tr>\n",
       "      <th>3</th>\n",
       "      <td>14.37</td>\n",
       "      <td>1.95</td>\n",
       "      <td>2.50</td>\n",
       "      <td>16.8</td>\n",
       "      <td>113.0</td>\n",
       "      <td>3.85</td>\n",
       "      <td>3.49</td>\n",
       "      <td>0.24</td>\n",
       "      <td>2.18</td>\n",
       "      <td>7.80</td>\n",
       "      <td>0.86</td>\n",
       "      <td>3.45</td>\n",
       "      <td>1480.0</td>\n",
       "      <td>0</td>\n",
       "    </tr>\n",
       "    <tr>\n",
       "      <th>4</th>\n",
       "      <td>13.24</td>\n",
       "      <td>2.59</td>\n",
       "      <td>2.87</td>\n",
       "      <td>21.0</td>\n",
       "      <td>118.0</td>\n",
       "      <td>2.80</td>\n",
       "      <td>2.69</td>\n",
       "      <td>0.39</td>\n",
       "      <td>1.82</td>\n",
       "      <td>4.32</td>\n",
       "      <td>1.04</td>\n",
       "      <td>2.93</td>\n",
       "      <td>735.0</td>\n",
       "      <td>0</td>\n",
       "    </tr>\n",
       "    <tr>\n",
       "      <th>...</th>\n",
       "      <td>...</td>\n",
       "      <td>...</td>\n",
       "      <td>...</td>\n",
       "      <td>...</td>\n",
       "      <td>...</td>\n",
       "      <td>...</td>\n",
       "      <td>...</td>\n",
       "      <td>...</td>\n",
       "      <td>...</td>\n",
       "      <td>...</td>\n",
       "      <td>...</td>\n",
       "      <td>...</td>\n",
       "      <td>...</td>\n",
       "      <td>...</td>\n",
       "    </tr>\n",
       "    <tr>\n",
       "      <th>173</th>\n",
       "      <td>13.71</td>\n",
       "      <td>5.65</td>\n",
       "      <td>2.45</td>\n",
       "      <td>20.5</td>\n",
       "      <td>95.0</td>\n",
       "      <td>1.68</td>\n",
       "      <td>0.61</td>\n",
       "      <td>0.52</td>\n",
       "      <td>1.06</td>\n",
       "      <td>7.70</td>\n",
       "      <td>0.64</td>\n",
       "      <td>1.74</td>\n",
       "      <td>740.0</td>\n",
       "      <td>2</td>\n",
       "    </tr>\n",
       "    <tr>\n",
       "      <th>174</th>\n",
       "      <td>13.40</td>\n",
       "      <td>3.91</td>\n",
       "      <td>2.48</td>\n",
       "      <td>23.0</td>\n",
       "      <td>102.0</td>\n",
       "      <td>1.80</td>\n",
       "      <td>0.75</td>\n",
       "      <td>0.43</td>\n",
       "      <td>1.41</td>\n",
       "      <td>7.30</td>\n",
       "      <td>0.70</td>\n",
       "      <td>1.56</td>\n",
       "      <td>750.0</td>\n",
       "      <td>2</td>\n",
       "    </tr>\n",
       "    <tr>\n",
       "      <th>175</th>\n",
       "      <td>13.27</td>\n",
       "      <td>4.28</td>\n",
       "      <td>2.26</td>\n",
       "      <td>20.0</td>\n",
       "      <td>120.0</td>\n",
       "      <td>1.59</td>\n",
       "      <td>0.69</td>\n",
       "      <td>0.43</td>\n",
       "      <td>1.35</td>\n",
       "      <td>10.20</td>\n",
       "      <td>0.59</td>\n",
       "      <td>1.56</td>\n",
       "      <td>835.0</td>\n",
       "      <td>2</td>\n",
       "    </tr>\n",
       "    <tr>\n",
       "      <th>176</th>\n",
       "      <td>13.17</td>\n",
       "      <td>2.59</td>\n",
       "      <td>2.37</td>\n",
       "      <td>20.0</td>\n",
       "      <td>120.0</td>\n",
       "      <td>1.65</td>\n",
       "      <td>0.68</td>\n",
       "      <td>0.53</td>\n",
       "      <td>1.46</td>\n",
       "      <td>9.30</td>\n",
       "      <td>0.60</td>\n",
       "      <td>1.62</td>\n",
       "      <td>840.0</td>\n",
       "      <td>2</td>\n",
       "    </tr>\n",
       "    <tr>\n",
       "      <th>177</th>\n",
       "      <td>14.13</td>\n",
       "      <td>4.10</td>\n",
       "      <td>2.74</td>\n",
       "      <td>24.5</td>\n",
       "      <td>96.0</td>\n",
       "      <td>2.05</td>\n",
       "      <td>0.76</td>\n",
       "      <td>0.56</td>\n",
       "      <td>1.35</td>\n",
       "      <td>9.20</td>\n",
       "      <td>0.61</td>\n",
       "      <td>1.60</td>\n",
       "      <td>560.0</td>\n",
       "      <td>2</td>\n",
       "    </tr>\n",
       "  </tbody>\n",
       "</table>\n",
       "<p>178 rows × 14 columns</p>\n",
       "</div>"
      ],
      "text/plain": [
       "        0     1     2     3      4     5     6     7     8      9     10  \\\n",
       "0    14.23  1.71  2.43  15.6  127.0  2.80  3.06  0.28  2.29   5.64  1.04   \n",
       "1    13.20  1.78  2.14  11.2  100.0  2.65  2.76  0.26  1.28   4.38  1.05   \n",
       "2    13.16  2.36  2.67  18.6  101.0  2.80  3.24  0.30  2.81   5.68  1.03   \n",
       "3    14.37  1.95  2.50  16.8  113.0  3.85  3.49  0.24  2.18   7.80  0.86   \n",
       "4    13.24  2.59  2.87  21.0  118.0  2.80  2.69  0.39  1.82   4.32  1.04   \n",
       "..     ...   ...   ...   ...    ...   ...   ...   ...   ...    ...   ...   \n",
       "173  13.71  5.65  2.45  20.5   95.0  1.68  0.61  0.52  1.06   7.70  0.64   \n",
       "174  13.40  3.91  2.48  23.0  102.0  1.80  0.75  0.43  1.41   7.30  0.70   \n",
       "175  13.27  4.28  2.26  20.0  120.0  1.59  0.69  0.43  1.35  10.20  0.59   \n",
       "176  13.17  2.59  2.37  20.0  120.0  1.65  0.68  0.53  1.46   9.30  0.60   \n",
       "177  14.13  4.10  2.74  24.5   96.0  2.05  0.76  0.56  1.35   9.20  0.61   \n",
       "\n",
       "       11      12  0   \n",
       "0    3.92  1065.0   0  \n",
       "1    3.40  1050.0   0  \n",
       "2    3.17  1185.0   0  \n",
       "3    3.45  1480.0   0  \n",
       "4    2.93   735.0   0  \n",
       "..    ...     ...  ..  \n",
       "173  1.74   740.0   2  \n",
       "174  1.56   750.0   2  \n",
       "175  1.56   835.0   2  \n",
       "176  1.62   840.0   2  \n",
       "177  1.60   560.0   2  \n",
       "\n",
       "[178 rows x 14 columns]"
      ]
     },
     "execution_count": 26,
     "metadata": {},
     "output_type": "execute_result"
    }
   ],
   "source": [
    "# 将wine的数据变为pd数组类型\n",
    "pd.concat([pd.DataFrame(wine.data),pd.DataFrame(wine.target)],axis=1)"
   ]
  },
  {
   "cell_type": "code",
   "execution_count": 27,
   "id": "8409981d",
   "metadata": {},
   "outputs": [
    {
     "data": {
      "text/plain": [
       "['alcohol',\n",
       " 'malic_acid',\n",
       " 'ash',\n",
       " 'alcalinity_of_ash',\n",
       " 'magnesium',\n",
       " 'total_phenols',\n",
       " 'flavanoids',\n",
       " 'nonflavanoid_phenols',\n",
       " 'proanthocyanins',\n",
       " 'color_intensity',\n",
       " 'hue',\n",
       " 'od280/od315_of_diluted_wines',\n",
       " 'proline']"
      ]
     },
     "execution_count": 27,
     "metadata": {},
     "output_type": "execute_result"
    }
   ],
   "source": [
    "# 查看wine数据的特征的名字\n",
    "wine.feature_names"
   ]
  },
  {
   "cell_type": "code",
   "execution_count": 28,
   "id": "308b9374",
   "metadata": {},
   "outputs": [
    {
     "data": {
      "text/plain": [
       "array(['class_0', 'class_1', 'class_2'], dtype='<U7')"
      ]
     },
     "execution_count": 28,
     "metadata": {},
     "output_type": "execute_result"
    }
   ],
   "source": [
    "# 查看wine数据的标签的名字\n",
    "wine.target_names"
   ]
  },
  {
   "cell_type": "markdown",
   "id": "ccf0e708",
   "metadata": {},
   "source": [
    "## 3.分训练集和测试集"
   ]
  },
  {
   "cell_type": "code",
   "execution_count": 29,
   "id": "b564d278",
   "metadata": {},
   "outputs": [],
   "source": [
    "# 将wine数据分为训练集和测试集-->3成做测试集\n",
    "Xtrain, Xtest, Ytrain, Ytest = train_test_split(wine.data,wine.target,test_size=0.3)"
   ]
  },
  {
   "cell_type": "code",
   "execution_count": 30,
   "id": "7b8c540e",
   "metadata": {},
   "outputs": [
    {
     "data": {
      "text/plain": [
       "(124, 13)"
      ]
     },
     "execution_count": 30,
     "metadata": {},
     "output_type": "execute_result"
    }
   ],
   "source": [
    "# 训练集数据\n",
    "Xtrain.shape"
   ]
  },
  {
   "cell_type": "code",
   "execution_count": 31,
   "id": "29a6e383",
   "metadata": {},
   "outputs": [
    {
     "data": {
      "text/plain": [
       "(54, 13)"
      ]
     },
     "execution_count": 31,
     "metadata": {},
     "output_type": "execute_result"
    }
   ],
   "source": [
    "# 测试集数据\n",
    "Xtest.shape"
   ]
  },
  {
   "cell_type": "markdown",
   "id": "8aec8219",
   "metadata": {},
   "source": [
    "## 4.建立模型"
   ]
  },
  {
   "cell_type": "code",
   "execution_count": 32,
   "id": "cb8b67a4",
   "metadata": {},
   "outputs": [
    {
     "data": {
      "text/plain": [
       "0.9814814814814815"
      ]
     },
     "execution_count": 32,
     "metadata": {},
     "output_type": "execute_result"
    }
   ],
   "source": [
    "# 使用决策树训练\n",
    "# criterion-->使用信息熵，默认为基尼系数\n",
    "# splitter-->best-->优先选择更重要的特征进行剪枝random-->分枝是更加随机\n",
    "clf = tree.DecisionTreeClassifier(criterion=\"entropy\",random_state=30,splitter=\"random\")\n",
    "# 传入训练数据\n",
    "clf = clf.fit(Xtrain, Ytrain)\n",
    "# 返回预测的准确度\n",
    "score = clf.score(Xtest, Ytest)\n",
    "score"
   ]
  },
  {
   "cell_type": "markdown",
   "id": "bae0daf2",
   "metadata": {},
   "source": [
    "## 5.画出一棵树"
   ]
  },
  {
   "cell_type": "code",
   "execution_count": 33,
   "id": "db1d8e14",
   "metadata": {},
   "outputs": [
    {
     "data": {
      "image/svg+xml": [
       "<?xml version=\"1.0\" encoding=\"UTF-8\" standalone=\"no\"?>\r\n",
       "<!DOCTYPE svg PUBLIC \"-//W3C//DTD SVG 1.1//EN\"\r\n",
       " \"http://www.w3.org/Graphics/SVG/1.1/DTD/svg11.dtd\">\r\n",
       "<!-- Generated by graphviz version 2.47.2 (20210527.0053)\r\n",
       " -->\r\n",
       "<!-- Title: Tree Pages: 1 -->\r\n",
       "<svg width=\"1274pt\" height=\"909pt\"\r\n",
       " viewBox=\"0.00 0.00 1273.50 909.00\" xmlns=\"http://www.w3.org/2000/svg\" xmlns:xlink=\"http://www.w3.org/1999/xlink\">\r\n",
       "<g id=\"graph0\" class=\"graph\" transform=\"scale(1 1) rotate(0) translate(4 905)\">\r\n",
       "<title>Tree</title>\r\n",
       "<polygon fill=\"white\" stroke=\"transparent\" points=\"-4,4 -4,-905 1269.5,-905 1269.5,4 -4,4\"/>\r\n",
       "<!-- 0 -->\r\n",
       "<g id=\"node1\" class=\"node\">\r\n",
       "<title>0</title>\r\n",
       "<path fill=\"#e5fcef\" stroke=\"black\" d=\"M675.5,-901C675.5,-901 562.5,-901 562.5,-901 556.5,-901 550.5,-895 550.5,-889 550.5,-889 550.5,-830 550.5,-830 550.5,-824 556.5,-818 562.5,-818 562.5,-818 675.5,-818 675.5,-818 681.5,-818 687.5,-824 687.5,-830 687.5,-830 687.5,-889 687.5,-889 687.5,-895 681.5,-901 675.5,-901\"/>\r\n",
       "<text text-anchor=\"middle\" x=\"619\" y=\"-885.8\" font-family=\"Helvetica,sans-Serif\" font-size=\"14.00\">类黄酮 &lt;= 1.641</text>\r\n",
       "<text text-anchor=\"middle\" x=\"619\" y=\"-870.8\" font-family=\"Helvetica,sans-Serif\" font-size=\"14.00\">entropy = 1.568</text>\r\n",
       "<text text-anchor=\"middle\" x=\"619\" y=\"-855.8\" font-family=\"Helvetica,sans-Serif\" font-size=\"14.00\">samples = 124</text>\r\n",
       "<text text-anchor=\"middle\" x=\"619\" y=\"-840.8\" font-family=\"Helvetica,sans-Serif\" font-size=\"14.00\">value = [39, 50, 35]</text>\r\n",
       "<text text-anchor=\"middle\" x=\"619\" y=\"-825.8\" font-family=\"Helvetica,sans-Serif\" font-size=\"14.00\">class = 雪梨</text>\r\n",
       "</g>\r\n",
       "<!-- 1 -->\r\n",
       "<g id=\"node2\" class=\"node\">\r\n",
       "<title>1</title>\r\n",
       "<path fill=\"#c29ff2\" stroke=\"black\" d=\"M586,-782C586,-782 360,-782 360,-782 354,-782 348,-776 348,-770 348,-770 348,-711 348,-711 348,-705 354,-699 360,-699 360,-699 586,-699 586,-699 592,-699 598,-705 598,-711 598,-711 598,-770 598,-770 598,-776 592,-782 586,-782\"/>\r\n",
       "<text text-anchor=\"middle\" x=\"473\" y=\"-766.8\" font-family=\"Helvetica,sans-Serif\" font-size=\"14.00\">od280/od315稀释葡萄酒 &lt;= 2.112</text>\r\n",
       "<text text-anchor=\"middle\" x=\"473\" y=\"-751.8\" font-family=\"Helvetica,sans-Serif\" font-size=\"14.00\">entropy = 0.924</text>\r\n",
       "<text text-anchor=\"middle\" x=\"473\" y=\"-736.8\" font-family=\"Helvetica,sans-Serif\" font-size=\"14.00\">samples = 53</text>\r\n",
       "<text text-anchor=\"middle\" x=\"473\" y=\"-721.8\" font-family=\"Helvetica,sans-Serif\" font-size=\"14.00\">value = [0, 18, 35]</text>\r\n",
       "<text text-anchor=\"middle\" x=\"473\" y=\"-706.8\" font-family=\"Helvetica,sans-Serif\" font-size=\"14.00\">class = 贝尔摩德</text>\r\n",
       "</g>\r\n",
       "<!-- 0&#45;&gt;1 -->\r\n",
       "<g id=\"edge1\" class=\"edge\">\r\n",
       "<title>0&#45;&gt;1</title>\r\n",
       "<path fill=\"none\" stroke=\"black\" d=\"M568.35,-817.91C556.46,-808.38 543.69,-798.15 531.49,-788.37\"/>\r\n",
       "<polygon fill=\"black\" stroke=\"black\" points=\"533.56,-785.54 523.56,-782.02 529.18,-791.01 533.56,-785.54\"/>\r\n",
       "<text text-anchor=\"middle\" x=\"526.3\" y=\"-803.17\" font-family=\"Helvetica,sans-Serif\" font-size=\"14.00\">True</text>\r\n",
       "</g>\r\n",
       "<!-- 18 -->\r\n",
       "<g id=\"node19\" class=\"node\">\r\n",
       "<title>18</title>\r\n",
       "<path fill=\"#fae8db\" stroke=\"black\" d=\"M833.5,-782C833.5,-782 728.5,-782 728.5,-782 722.5,-782 716.5,-776 716.5,-770 716.5,-770 716.5,-711 716.5,-711 716.5,-705 722.5,-699 728.5,-699 728.5,-699 833.5,-699 833.5,-699 839.5,-699 845.5,-705 845.5,-711 845.5,-711 845.5,-770 845.5,-770 845.5,-776 839.5,-782 833.5,-782\"/>\r\n",
       "<text text-anchor=\"middle\" x=\"781\" y=\"-766.8\" font-family=\"Helvetica,sans-Serif\" font-size=\"14.00\">镁 &lt;= 98.135</text>\r\n",
       "<text text-anchor=\"middle\" x=\"781\" y=\"-751.8\" font-family=\"Helvetica,sans-Serif\" font-size=\"14.00\">entropy = 0.993</text>\r\n",
       "<text text-anchor=\"middle\" x=\"781\" y=\"-736.8\" font-family=\"Helvetica,sans-Serif\" font-size=\"14.00\">samples = 71</text>\r\n",
       "<text text-anchor=\"middle\" x=\"781\" y=\"-721.8\" font-family=\"Helvetica,sans-Serif\" font-size=\"14.00\">value = [39, 32, 0]</text>\r\n",
       "<text text-anchor=\"middle\" x=\"781\" y=\"-706.8\" font-family=\"Helvetica,sans-Serif\" font-size=\"14.00\">class = 琴酒</text>\r\n",
       "</g>\r\n",
       "<!-- 0&#45;&gt;18 -->\r\n",
       "<g id=\"edge18\" class=\"edge\">\r\n",
       "<title>0&#45;&gt;18</title>\r\n",
       "<path fill=\"none\" stroke=\"black\" d=\"M675.21,-817.91C688.52,-808.29 702.83,-797.95 716.49,-788.09\"/>\r\n",
       "<polygon fill=\"black\" stroke=\"black\" points=\"718.84,-790.71 724.89,-782.02 714.74,-785.04 718.84,-790.71\"/>\r\n",
       "<text text-anchor=\"middle\" x=\"720.91\" y=\"-803\" font-family=\"Helvetica,sans-Serif\" font-size=\"14.00\">False</text>\r\n",
       "</g>\r\n",
       "<!-- 2 -->\r\n",
       "<g id=\"node3\" class=\"node\">\r\n",
       "<title>2</title>\r\n",
       "<path fill=\"#9d64eb\" stroke=\"black\" d=\"M340,-663C340,-663 230,-663 230,-663 224,-663 218,-657 218,-651 218,-651 218,-592 218,-592 218,-586 224,-580 230,-580 230,-580 340,-580 340,-580 346,-580 352,-586 352,-592 352,-592 352,-651 352,-651 352,-657 346,-663 340,-663\"/>\r\n",
       "<text text-anchor=\"middle\" x=\"285\" y=\"-647.8\" font-family=\"Helvetica,sans-Serif\" font-size=\"14.00\">色调 &lt;= 0.95</text>\r\n",
       "<text text-anchor=\"middle\" x=\"285\" y=\"-632.8\" font-family=\"Helvetica,sans-Serif\" font-size=\"14.00\">entropy = 0.679</text>\r\n",
       "<text text-anchor=\"middle\" x=\"285\" y=\"-617.8\" font-family=\"Helvetica,sans-Serif\" font-size=\"14.00\">samples = 39</text>\r\n",
       "<text text-anchor=\"middle\" x=\"285\" y=\"-602.8\" font-family=\"Helvetica,sans-Serif\" font-size=\"14.00\">value = [0, 7, 32]</text>\r\n",
       "<text text-anchor=\"middle\" x=\"285\" y=\"-587.8\" font-family=\"Helvetica,sans-Serif\" font-size=\"14.00\">class = 贝尔摩德</text>\r\n",
       "</g>\r\n",
       "<!-- 1&#45;&gt;2 -->\r\n",
       "<g id=\"edge2\" class=\"edge\">\r\n",
       "<title>1&#45;&gt;2</title>\r\n",
       "<path fill=\"none\" stroke=\"black\" d=\"M407.77,-698.91C392.03,-689.11 375.08,-678.56 358.97,-668.53\"/>\r\n",
       "<polygon fill=\"black\" stroke=\"black\" points=\"360.45,-665.33 350.11,-663.02 356.75,-671.28 360.45,-665.33\"/>\r\n",
       "</g>\r\n",
       "<!-- 13 -->\r\n",
       "<g id=\"node14\" class=\"node\">\r\n",
       "<title>13</title>\r\n",
       "<path fill=\"#6feca3\" stroke=\"black\" d=\"M521.5,-663C521.5,-663 424.5,-663 424.5,-663 418.5,-663 412.5,-657 412.5,-651 412.5,-651 412.5,-592 412.5,-592 412.5,-586 418.5,-580 424.5,-580 424.5,-580 521.5,-580 521.5,-580 527.5,-580 533.5,-586 533.5,-592 533.5,-592 533.5,-651 533.5,-651 533.5,-657 527.5,-663 521.5,-663\"/>\r\n",
       "<text text-anchor=\"middle\" x=\"473\" y=\"-647.8\" font-family=\"Helvetica,sans-Serif\" font-size=\"14.00\">酒精 &lt;= 12.491</text>\r\n",
       "<text text-anchor=\"middle\" x=\"473\" y=\"-632.8\" font-family=\"Helvetica,sans-Serif\" font-size=\"14.00\">entropy = 0.75</text>\r\n",
       "<text text-anchor=\"middle\" x=\"473\" y=\"-617.8\" font-family=\"Helvetica,sans-Serif\" font-size=\"14.00\">samples = 14</text>\r\n",
       "<text text-anchor=\"middle\" x=\"473\" y=\"-602.8\" font-family=\"Helvetica,sans-Serif\" font-size=\"14.00\">value = [0, 11, 3]</text>\r\n",
       "<text text-anchor=\"middle\" x=\"473\" y=\"-587.8\" font-family=\"Helvetica,sans-Serif\" font-size=\"14.00\">class = 雪梨</text>\r\n",
       "</g>\r\n",
       "<!-- 1&#45;&gt;13 -->\r\n",
       "<g id=\"edge13\" class=\"edge\">\r\n",
       "<title>1&#45;&gt;13</title>\r\n",
       "<path fill=\"none\" stroke=\"black\" d=\"M473,-698.91C473,-690.65 473,-681.86 473,-673.3\"/>\r\n",
       "<polygon fill=\"black\" stroke=\"black\" points=\"476.5,-673.02 473,-663.02 469.5,-673.02 476.5,-673.02\"/>\r\n",
       "</g>\r\n",
       "<!-- 3 -->\r\n",
       "<g id=\"node4\" class=\"node\">\r\n",
       "<title>3</title>\r\n",
       "<path fill=\"#8945e7\" stroke=\"black\" d=\"M198,-544C198,-544 88,-544 88,-544 82,-544 76,-538 76,-532 76,-532 76,-473 76,-473 76,-467 82,-461 88,-461 88,-461 198,-461 198,-461 204,-461 210,-467 210,-473 210,-473 210,-532 210,-532 210,-538 204,-544 198,-544\"/>\r\n",
       "<text text-anchor=\"middle\" x=\"143\" y=\"-528.8\" font-family=\"Helvetica,sans-Serif\" font-size=\"14.00\">色调 &lt;= 0.716</text>\r\n",
       "<text text-anchor=\"middle\" x=\"143\" y=\"-513.8\" font-family=\"Helvetica,sans-Serif\" font-size=\"14.00\">entropy = 0.323</text>\r\n",
       "<text text-anchor=\"middle\" x=\"143\" y=\"-498.8\" font-family=\"Helvetica,sans-Serif\" font-size=\"14.00\">samples = 34</text>\r\n",
       "<text text-anchor=\"middle\" x=\"143\" y=\"-483.8\" font-family=\"Helvetica,sans-Serif\" font-size=\"14.00\">value = [0, 2, 32]</text>\r\n",
       "<text text-anchor=\"middle\" x=\"143\" y=\"-468.8\" font-family=\"Helvetica,sans-Serif\" font-size=\"14.00\">class = 贝尔摩德</text>\r\n",
       "</g>\r\n",
       "<!-- 2&#45;&gt;3 -->\r\n",
       "<g id=\"edge3\" class=\"edge\">\r\n",
       "<title>2&#45;&gt;3</title>\r\n",
       "<path fill=\"none\" stroke=\"black\" d=\"M235.73,-579.91C224.28,-570.47 211.99,-560.34 200.22,-550.65\"/>\r\n",
       "<polygon fill=\"black\" stroke=\"black\" points=\"202.12,-547.68 192.18,-544.02 197.67,-553.08 202.12,-547.68\"/>\r\n",
       "</g>\r\n",
       "<!-- 12 -->\r\n",
       "<g id=\"node13\" class=\"node\">\r\n",
       "<title>12</title>\r\n",
       "<path fill=\"#39e581\" stroke=\"black\" d=\"M329.5,-536.5C329.5,-536.5 240.5,-536.5 240.5,-536.5 234.5,-536.5 228.5,-530.5 228.5,-524.5 228.5,-524.5 228.5,-480.5 228.5,-480.5 228.5,-474.5 234.5,-468.5 240.5,-468.5 240.5,-468.5 329.5,-468.5 329.5,-468.5 335.5,-468.5 341.5,-474.5 341.5,-480.5 341.5,-480.5 341.5,-524.5 341.5,-524.5 341.5,-530.5 335.5,-536.5 329.5,-536.5\"/>\r\n",
       "<text text-anchor=\"middle\" x=\"285\" y=\"-521.3\" font-family=\"Helvetica,sans-Serif\" font-size=\"14.00\">entropy = 0.0</text>\r\n",
       "<text text-anchor=\"middle\" x=\"285\" y=\"-506.3\" font-family=\"Helvetica,sans-Serif\" font-size=\"14.00\">samples = 5</text>\r\n",
       "<text text-anchor=\"middle\" x=\"285\" y=\"-491.3\" font-family=\"Helvetica,sans-Serif\" font-size=\"14.00\">value = [0, 5, 0]</text>\r\n",
       "<text text-anchor=\"middle\" x=\"285\" y=\"-476.3\" font-family=\"Helvetica,sans-Serif\" font-size=\"14.00\">class = 雪梨</text>\r\n",
       "</g>\r\n",
       "<!-- 2&#45;&gt;12 -->\r\n",
       "<g id=\"edge12\" class=\"edge\">\r\n",
       "<title>2&#45;&gt;12</title>\r\n",
       "<path fill=\"none\" stroke=\"black\" d=\"M285,-579.91C285,-569.2 285,-557.62 285,-546.78\"/>\r\n",
       "<polygon fill=\"black\" stroke=\"black\" points=\"288.5,-546.67 285,-536.67 281.5,-546.67 288.5,-546.67\"/>\r\n",
       "</g>\r\n",
       "<!-- 4 -->\r\n",
       "<g id=\"node5\" class=\"node\">\r\n",
       "<title>4</title>\r\n",
       "<path fill=\"#8139e5\" stroke=\"black\" d=\"M122,-417.5C122,-417.5 12,-417.5 12,-417.5 6,-417.5 0,-411.5 0,-405.5 0,-405.5 0,-361.5 0,-361.5 0,-355.5 6,-349.5 12,-349.5 12,-349.5 122,-349.5 122,-349.5 128,-349.5 134,-355.5 134,-361.5 134,-361.5 134,-405.5 134,-405.5 134,-411.5 128,-417.5 122,-417.5\"/>\r\n",
       "<text text-anchor=\"middle\" x=\"67\" y=\"-402.3\" font-family=\"Helvetica,sans-Serif\" font-size=\"14.00\">entropy = 0.0</text>\r\n",
       "<text text-anchor=\"middle\" x=\"67\" y=\"-387.3\" font-family=\"Helvetica,sans-Serif\" font-size=\"14.00\">samples = 21</text>\r\n",
       "<text text-anchor=\"middle\" x=\"67\" y=\"-372.3\" font-family=\"Helvetica,sans-Serif\" font-size=\"14.00\">value = [0, 0, 21]</text>\r\n",
       "<text text-anchor=\"middle\" x=\"67\" y=\"-357.3\" font-family=\"Helvetica,sans-Serif\" font-size=\"14.00\">class = 贝尔摩德</text>\r\n",
       "</g>\r\n",
       "<!-- 3&#45;&gt;4 -->\r\n",
       "<g id=\"edge4\" class=\"edge\">\r\n",
       "<title>3&#45;&gt;4</title>\r\n",
       "<path fill=\"none\" stroke=\"black\" d=\"M116.63,-460.91C109.32,-449.65 101.37,-437.42 94.03,-426.11\"/>\r\n",
       "<polygon fill=\"black\" stroke=\"black\" points=\"96.93,-424.15 88.54,-417.67 91.06,-427.96 96.93,-424.15\"/>\r\n",
       "</g>\r\n",
       "<!-- 5 -->\r\n",
       "<g id=\"node6\" class=\"node\">\r\n",
       "<title>5</title>\r\n",
       "<path fill=\"#985dea\" stroke=\"black\" d=\"M274,-425C274,-425 164,-425 164,-425 158,-425 152,-419 152,-413 152,-413 152,-354 152,-354 152,-348 158,-342 164,-342 164,-342 274,-342 274,-342 280,-342 286,-348 286,-354 286,-354 286,-413 286,-413 286,-419 280,-425 274,-425\"/>\r\n",
       "<text text-anchor=\"middle\" x=\"219\" y=\"-409.8\" font-family=\"Helvetica,sans-Serif\" font-size=\"14.00\">总酚 &lt;= 1.209</text>\r\n",
       "<text text-anchor=\"middle\" x=\"219\" y=\"-394.8\" font-family=\"Helvetica,sans-Serif\" font-size=\"14.00\">entropy = 0.619</text>\r\n",
       "<text text-anchor=\"middle\" x=\"219\" y=\"-379.8\" font-family=\"Helvetica,sans-Serif\" font-size=\"14.00\">samples = 13</text>\r\n",
       "<text text-anchor=\"middle\" x=\"219\" y=\"-364.8\" font-family=\"Helvetica,sans-Serif\" font-size=\"14.00\">value = [0, 2, 11]</text>\r\n",
       "<text text-anchor=\"middle\" x=\"219\" y=\"-349.8\" font-family=\"Helvetica,sans-Serif\" font-size=\"14.00\">class = 贝尔摩德</text>\r\n",
       "</g>\r\n",
       "<!-- 3&#45;&gt;5 -->\r\n",
       "<g id=\"edge5\" class=\"edge\">\r\n",
       "<title>3&#45;&gt;5</title>\r\n",
       "<path fill=\"none\" stroke=\"black\" d=\"M169.37,-460.91C175.09,-452.1 181.19,-442.7 187.1,-433.61\"/>\r\n",
       "<polygon fill=\"black\" stroke=\"black\" points=\"190.17,-435.31 192.68,-425.02 184.3,-431.5 190.17,-435.31\"/>\r\n",
       "</g>\r\n",
       "<!-- 6 -->\r\n",
       "<g id=\"node7\" class=\"node\">\r\n",
       "<title>6</title>\r\n",
       "<path fill=\"#39e581\" stroke=\"black\" d=\"M192.5,-298.5C192.5,-298.5 103.5,-298.5 103.5,-298.5 97.5,-298.5 91.5,-292.5 91.5,-286.5 91.5,-286.5 91.5,-242.5 91.5,-242.5 91.5,-236.5 97.5,-230.5 103.5,-230.5 103.5,-230.5 192.5,-230.5 192.5,-230.5 198.5,-230.5 204.5,-236.5 204.5,-242.5 204.5,-242.5 204.5,-286.5 204.5,-286.5 204.5,-292.5 198.5,-298.5 192.5,-298.5\"/>\r\n",
       "<text text-anchor=\"middle\" x=\"148\" y=\"-283.3\" font-family=\"Helvetica,sans-Serif\" font-size=\"14.00\">entropy = 0.0</text>\r\n",
       "<text text-anchor=\"middle\" x=\"148\" y=\"-268.3\" font-family=\"Helvetica,sans-Serif\" font-size=\"14.00\">samples = 1</text>\r\n",
       "<text text-anchor=\"middle\" x=\"148\" y=\"-253.3\" font-family=\"Helvetica,sans-Serif\" font-size=\"14.00\">value = [0, 1, 0]</text>\r\n",
       "<text text-anchor=\"middle\" x=\"148\" y=\"-238.3\" font-family=\"Helvetica,sans-Serif\" font-size=\"14.00\">class = 雪梨</text>\r\n",
       "</g>\r\n",
       "<!-- 5&#45;&gt;6 -->\r\n",
       "<g id=\"edge6\" class=\"edge\">\r\n",
       "<title>5&#45;&gt;6</title>\r\n",
       "<path fill=\"none\" stroke=\"black\" d=\"M194.37,-341.91C187.6,-330.76 180.26,-318.66 173.45,-307.44\"/>\r\n",
       "<polygon fill=\"black\" stroke=\"black\" points=\"176.31,-305.4 168.13,-298.67 170.32,-309.03 176.31,-305.4\"/>\r\n",
       "</g>\r\n",
       "<!-- 7 -->\r\n",
       "<g id=\"node8\" class=\"node\">\r\n",
       "<title>7</title>\r\n",
       "<path fill=\"#8c4be7\" stroke=\"black\" d=\"M345,-306C345,-306 235,-306 235,-306 229,-306 223,-300 223,-294 223,-294 223,-235 223,-235 223,-229 229,-223 235,-223 235,-223 345,-223 345,-223 351,-223 357,-229 357,-235 357,-235 357,-294 357,-294 357,-300 351,-306 345,-306\"/>\r\n",
       "<text text-anchor=\"middle\" x=\"290\" y=\"-290.8\" font-family=\"Helvetica,sans-Serif\" font-size=\"14.00\">类黄酮 &lt;= 0.693</text>\r\n",
       "<text text-anchor=\"middle\" x=\"290\" y=\"-275.8\" font-family=\"Helvetica,sans-Serif\" font-size=\"14.00\">entropy = 0.414</text>\r\n",
       "<text text-anchor=\"middle\" x=\"290\" y=\"-260.8\" font-family=\"Helvetica,sans-Serif\" font-size=\"14.00\">samples = 12</text>\r\n",
       "<text text-anchor=\"middle\" x=\"290\" y=\"-245.8\" font-family=\"Helvetica,sans-Serif\" font-size=\"14.00\">value = [0, 1, 11]</text>\r\n",
       "<text text-anchor=\"middle\" x=\"290\" y=\"-230.8\" font-family=\"Helvetica,sans-Serif\" font-size=\"14.00\">class = 贝尔摩德</text>\r\n",
       "</g>\r\n",
       "<!-- 5&#45;&gt;7 -->\r\n",
       "<g id=\"edge7\" class=\"edge\">\r\n",
       "<title>5&#45;&gt;7</title>\r\n",
       "<path fill=\"none\" stroke=\"black\" d=\"M243.63,-341.91C248.97,-333.1 254.68,-323.7 260.2,-314.61\"/>\r\n",
       "<polygon fill=\"black\" stroke=\"black\" points=\"263.21,-316.39 265.41,-306.02 257.23,-312.75 263.21,-316.39\"/>\r\n",
       "</g>\r\n",
       "<!-- 8 -->\r\n",
       "<g id=\"node9\" class=\"node\">\r\n",
       "<title>8</title>\r\n",
       "<path fill=\"#8139e5\" stroke=\"black\" d=\"M269,-179.5C269,-179.5 159,-179.5 159,-179.5 153,-179.5 147,-173.5 147,-167.5 147,-167.5 147,-123.5 147,-123.5 147,-117.5 153,-111.5 159,-111.5 159,-111.5 269,-111.5 269,-111.5 275,-111.5 281,-117.5 281,-123.5 281,-123.5 281,-167.5 281,-167.5 281,-173.5 275,-179.5 269,-179.5\"/>\r\n",
       "<text text-anchor=\"middle\" x=\"214\" y=\"-164.3\" font-family=\"Helvetica,sans-Serif\" font-size=\"14.00\">entropy = 0.0</text>\r\n",
       "<text text-anchor=\"middle\" x=\"214\" y=\"-149.3\" font-family=\"Helvetica,sans-Serif\" font-size=\"14.00\">samples = 7</text>\r\n",
       "<text text-anchor=\"middle\" x=\"214\" y=\"-134.3\" font-family=\"Helvetica,sans-Serif\" font-size=\"14.00\">value = [0, 0, 7]</text>\r\n",
       "<text text-anchor=\"middle\" x=\"214\" y=\"-119.3\" font-family=\"Helvetica,sans-Serif\" font-size=\"14.00\">class = 贝尔摩德</text>\r\n",
       "</g>\r\n",
       "<!-- 7&#45;&gt;8 -->\r\n",
       "<g id=\"edge8\" class=\"edge\">\r\n",
       "<title>7&#45;&gt;8</title>\r\n",
       "<path fill=\"none\" stroke=\"black\" d=\"M263.63,-222.91C256.32,-211.65 248.37,-199.42 241.03,-188.11\"/>\r\n",
       "<polygon fill=\"black\" stroke=\"black\" points=\"243.93,-186.15 235.54,-179.67 238.06,-189.96 243.93,-186.15\"/>\r\n",
       "</g>\r\n",
       "<!-- 9 -->\r\n",
       "<g id=\"node10\" class=\"node\">\r\n",
       "<title>9</title>\r\n",
       "<path fill=\"#a06aec\" stroke=\"black\" d=\"M421,-187C421,-187 311,-187 311,-187 305,-187 299,-181 299,-175 299,-175 299,-116 299,-116 299,-110 305,-104 311,-104 311,-104 421,-104 421,-104 427,-104 433,-110 433,-116 433,-116 433,-175 433,-175 433,-181 427,-187 421,-187\"/>\r\n",
       "<text text-anchor=\"middle\" x=\"366\" y=\"-171.8\" font-family=\"Helvetica,sans-Serif\" font-size=\"14.00\">类黄酮 &lt;= 1.528</text>\r\n",
       "<text text-anchor=\"middle\" x=\"366\" y=\"-156.8\" font-family=\"Helvetica,sans-Serif\" font-size=\"14.00\">entropy = 0.722</text>\r\n",
       "<text text-anchor=\"middle\" x=\"366\" y=\"-141.8\" font-family=\"Helvetica,sans-Serif\" font-size=\"14.00\">samples = 5</text>\r\n",
       "<text text-anchor=\"middle\" x=\"366\" y=\"-126.8\" font-family=\"Helvetica,sans-Serif\" font-size=\"14.00\">value = [0, 1, 4]</text>\r\n",
       "<text text-anchor=\"middle\" x=\"366\" y=\"-111.8\" font-family=\"Helvetica,sans-Serif\" font-size=\"14.00\">class = 贝尔摩德</text>\r\n",
       "</g>\r\n",
       "<!-- 7&#45;&gt;9 -->\r\n",
       "<g id=\"edge9\" class=\"edge\">\r\n",
       "<title>7&#45;&gt;9</title>\r\n",
       "<path fill=\"none\" stroke=\"black\" d=\"M316.37,-222.91C322.09,-214.1 328.19,-204.7 334.1,-195.61\"/>\r\n",
       "<polygon fill=\"black\" stroke=\"black\" points=\"337.17,-197.31 339.68,-187.02 331.3,-193.5 337.17,-197.31\"/>\r\n",
       "</g>\r\n",
       "<!-- 10 -->\r\n",
       "<g id=\"node11\" class=\"node\">\r\n",
       "<title>10</title>\r\n",
       "<path fill=\"#8139e5\" stroke=\"black\" d=\"M350,-68C350,-68 240,-68 240,-68 234,-68 228,-62 228,-56 228,-56 228,-12 228,-12 228,-6 234,0 240,0 240,0 350,0 350,0 356,0 362,-6 362,-12 362,-12 362,-56 362,-56 362,-62 356,-68 350,-68\"/>\r\n",
       "<text text-anchor=\"middle\" x=\"295\" y=\"-52.8\" font-family=\"Helvetica,sans-Serif\" font-size=\"14.00\">entropy = 0.0</text>\r\n",
       "<text text-anchor=\"middle\" x=\"295\" y=\"-37.8\" font-family=\"Helvetica,sans-Serif\" font-size=\"14.00\">samples = 4</text>\r\n",
       "<text text-anchor=\"middle\" x=\"295\" y=\"-22.8\" font-family=\"Helvetica,sans-Serif\" font-size=\"14.00\">value = [0, 0, 4]</text>\r\n",
       "<text text-anchor=\"middle\" x=\"295\" y=\"-7.8\" font-family=\"Helvetica,sans-Serif\" font-size=\"14.00\">class = 贝尔摩德</text>\r\n",
       "</g>\r\n",
       "<!-- 9&#45;&gt;10 -->\r\n",
       "<g id=\"edge10\" class=\"edge\">\r\n",
       "<title>9&#45;&gt;10</title>\r\n",
       "<path fill=\"none\" stroke=\"black\" d=\"M339.56,-103.73C333.88,-94.97 327.88,-85.7 322.17,-76.91\"/>\r\n",
       "<polygon fill=\"black\" stroke=\"black\" points=\"324.97,-74.79 316.59,-68.3 319.1,-78.59 324.97,-74.79\"/>\r\n",
       "</g>\r\n",
       "<!-- 11 -->\r\n",
       "<g id=\"node12\" class=\"node\">\r\n",
       "<title>11</title>\r\n",
       "<path fill=\"#39e581\" stroke=\"black\" d=\"M481.5,-68C481.5,-68 392.5,-68 392.5,-68 386.5,-68 380.5,-62 380.5,-56 380.5,-56 380.5,-12 380.5,-12 380.5,-6 386.5,0 392.5,0 392.5,0 481.5,0 481.5,0 487.5,0 493.5,-6 493.5,-12 493.5,-12 493.5,-56 493.5,-56 493.5,-62 487.5,-68 481.5,-68\"/>\r\n",
       "<text text-anchor=\"middle\" x=\"437\" y=\"-52.8\" font-family=\"Helvetica,sans-Serif\" font-size=\"14.00\">entropy = 0.0</text>\r\n",
       "<text text-anchor=\"middle\" x=\"437\" y=\"-37.8\" font-family=\"Helvetica,sans-Serif\" font-size=\"14.00\">samples = 1</text>\r\n",
       "<text text-anchor=\"middle\" x=\"437\" y=\"-22.8\" font-family=\"Helvetica,sans-Serif\" font-size=\"14.00\">value = [0, 1, 0]</text>\r\n",
       "<text text-anchor=\"middle\" x=\"437\" y=\"-7.8\" font-family=\"Helvetica,sans-Serif\" font-size=\"14.00\">class = 雪梨</text>\r\n",
       "</g>\r\n",
       "<!-- 9&#45;&gt;11 -->\r\n",
       "<g id=\"edge11\" class=\"edge\">\r\n",
       "<title>9&#45;&gt;11</title>\r\n",
       "<path fill=\"none\" stroke=\"black\" d=\"M392.44,-103.73C398.12,-94.97 404.12,-85.7 409.83,-76.91\"/>\r\n",
       "<polygon fill=\"black\" stroke=\"black\" points=\"412.9,-78.59 415.41,-68.3 407.03,-74.79 412.9,-78.59\"/>\r\n",
       "</g>\r\n",
       "<!-- 14 -->\r\n",
       "<g id=\"node15\" class=\"node\">\r\n",
       "<title>14</title>\r\n",
       "<path fill=\"#39e581\" stroke=\"black\" d=\"M468.5,-536.5C468.5,-536.5 371.5,-536.5 371.5,-536.5 365.5,-536.5 359.5,-530.5 359.5,-524.5 359.5,-524.5 359.5,-480.5 359.5,-480.5 359.5,-474.5 365.5,-468.5 371.5,-468.5 371.5,-468.5 468.5,-468.5 468.5,-468.5 474.5,-468.5 480.5,-474.5 480.5,-480.5 480.5,-480.5 480.5,-524.5 480.5,-524.5 480.5,-530.5 474.5,-536.5 468.5,-536.5\"/>\r\n",
       "<text text-anchor=\"middle\" x=\"420\" y=\"-521.3\" font-family=\"Helvetica,sans-Serif\" font-size=\"14.00\">entropy = 0.0</text>\r\n",
       "<text text-anchor=\"middle\" x=\"420\" y=\"-506.3\" font-family=\"Helvetica,sans-Serif\" font-size=\"14.00\">samples = 10</text>\r\n",
       "<text text-anchor=\"middle\" x=\"420\" y=\"-491.3\" font-family=\"Helvetica,sans-Serif\" font-size=\"14.00\">value = [0, 10, 0]</text>\r\n",
       "<text text-anchor=\"middle\" x=\"420\" y=\"-476.3\" font-family=\"Helvetica,sans-Serif\" font-size=\"14.00\">class = 雪梨</text>\r\n",
       "</g>\r\n",
       "<!-- 13&#45;&gt;14 -->\r\n",
       "<g id=\"edge14\" class=\"edge\">\r\n",
       "<title>13&#45;&gt;14</title>\r\n",
       "<path fill=\"none\" stroke=\"black\" d=\"M454.61,-579.91C449.66,-568.98 444.3,-557.14 439.3,-546.11\"/>\r\n",
       "<polygon fill=\"black\" stroke=\"black\" points=\"442.34,-544.33 435.02,-536.67 435.96,-547.22 442.34,-544.33\"/>\r\n",
       "</g>\r\n",
       "<!-- 15 -->\r\n",
       "<g id=\"node16\" class=\"node\">\r\n",
       "<title>15</title>\r\n",
       "<path fill=\"#ab7bee\" stroke=\"black\" d=\"M633,-544C633,-544 511,-544 511,-544 505,-544 499,-538 499,-532 499,-532 499,-473 499,-473 499,-467 505,-461 511,-461 511,-461 633,-461 633,-461 639,-461 645,-467 645,-473 645,-473 645,-532 645,-532 645,-538 639,-544 633,-544\"/>\r\n",
       "<text text-anchor=\"middle\" x=\"572\" y=\"-528.8\" font-family=\"Helvetica,sans-Serif\" font-size=\"14.00\">脯氨酸 &lt;= 588.178</text>\r\n",
       "<text text-anchor=\"middle\" x=\"572\" y=\"-513.8\" font-family=\"Helvetica,sans-Serif\" font-size=\"14.00\">entropy = 0.811</text>\r\n",
       "<text text-anchor=\"middle\" x=\"572\" y=\"-498.8\" font-family=\"Helvetica,sans-Serif\" font-size=\"14.00\">samples = 4</text>\r\n",
       "<text text-anchor=\"middle\" x=\"572\" y=\"-483.8\" font-family=\"Helvetica,sans-Serif\" font-size=\"14.00\">value = [0, 1, 3]</text>\r\n",
       "<text text-anchor=\"middle\" x=\"572\" y=\"-468.8\" font-family=\"Helvetica,sans-Serif\" font-size=\"14.00\">class = 贝尔摩德</text>\r\n",
       "</g>\r\n",
       "<!-- 13&#45;&gt;15 -->\r\n",
       "<g id=\"edge15\" class=\"edge\">\r\n",
       "<title>13&#45;&gt;15</title>\r\n",
       "<path fill=\"none\" stroke=\"black\" d=\"M507.35,-579.91C515.03,-570.83 523.24,-561.12 531.16,-551.77\"/>\r\n",
       "<polygon fill=\"black\" stroke=\"black\" points=\"533.93,-553.92 537.71,-544.02 528.58,-549.39 533.93,-553.92\"/>\r\n",
       "</g>\r\n",
       "<!-- 16 -->\r\n",
       "<g id=\"node17\" class=\"node\">\r\n",
       "<title>16</title>\r\n",
       "<path fill=\"#39e581\" stroke=\"black\" d=\"M545.5,-417.5C545.5,-417.5 456.5,-417.5 456.5,-417.5 450.5,-417.5 444.5,-411.5 444.5,-405.5 444.5,-405.5 444.5,-361.5 444.5,-361.5 444.5,-355.5 450.5,-349.5 456.5,-349.5 456.5,-349.5 545.5,-349.5 545.5,-349.5 551.5,-349.5 557.5,-355.5 557.5,-361.5 557.5,-361.5 557.5,-405.5 557.5,-405.5 557.5,-411.5 551.5,-417.5 545.5,-417.5\"/>\r\n",
       "<text text-anchor=\"middle\" x=\"501\" y=\"-402.3\" font-family=\"Helvetica,sans-Serif\" font-size=\"14.00\">entropy = 0.0</text>\r\n",
       "<text text-anchor=\"middle\" x=\"501\" y=\"-387.3\" font-family=\"Helvetica,sans-Serif\" font-size=\"14.00\">samples = 1</text>\r\n",
       "<text text-anchor=\"middle\" x=\"501\" y=\"-372.3\" font-family=\"Helvetica,sans-Serif\" font-size=\"14.00\">value = [0, 1, 0]</text>\r\n",
       "<text text-anchor=\"middle\" x=\"501\" y=\"-357.3\" font-family=\"Helvetica,sans-Serif\" font-size=\"14.00\">class = 雪梨</text>\r\n",
       "</g>\r\n",
       "<!-- 15&#45;&gt;16 -->\r\n",
       "<g id=\"edge16\" class=\"edge\">\r\n",
       "<title>15&#45;&gt;16</title>\r\n",
       "<path fill=\"none\" stroke=\"black\" d=\"M547.37,-460.91C540.6,-449.76 533.26,-437.66 526.45,-426.44\"/>\r\n",
       "<polygon fill=\"black\" stroke=\"black\" points=\"529.31,-424.4 521.13,-417.67 523.32,-428.03 529.31,-424.4\"/>\r\n",
       "</g>\r\n",
       "<!-- 17 -->\r\n",
       "<g id=\"node18\" class=\"node\">\r\n",
       "<title>17</title>\r\n",
       "<path fill=\"#8139e5\" stroke=\"black\" d=\"M698,-417.5C698,-417.5 588,-417.5 588,-417.5 582,-417.5 576,-411.5 576,-405.5 576,-405.5 576,-361.5 576,-361.5 576,-355.5 582,-349.5 588,-349.5 588,-349.5 698,-349.5 698,-349.5 704,-349.5 710,-355.5 710,-361.5 710,-361.5 710,-405.5 710,-405.5 710,-411.5 704,-417.5 698,-417.5\"/>\r\n",
       "<text text-anchor=\"middle\" x=\"643\" y=\"-402.3\" font-family=\"Helvetica,sans-Serif\" font-size=\"14.00\">entropy = 0.0</text>\r\n",
       "<text text-anchor=\"middle\" x=\"643\" y=\"-387.3\" font-family=\"Helvetica,sans-Serif\" font-size=\"14.00\">samples = 3</text>\r\n",
       "<text text-anchor=\"middle\" x=\"643\" y=\"-372.3\" font-family=\"Helvetica,sans-Serif\" font-size=\"14.00\">value = [0, 0, 3]</text>\r\n",
       "<text text-anchor=\"middle\" x=\"643\" y=\"-357.3\" font-family=\"Helvetica,sans-Serif\" font-size=\"14.00\">class = 贝尔摩德</text>\r\n",
       "</g>\r\n",
       "<!-- 15&#45;&gt;17 -->\r\n",
       "<g id=\"edge17\" class=\"edge\">\r\n",
       "<title>15&#45;&gt;17</title>\r\n",
       "<path fill=\"none\" stroke=\"black\" d=\"M596.63,-460.91C603.4,-449.76 610.74,-437.66 617.55,-426.44\"/>\r\n",
       "<polygon fill=\"black\" stroke=\"black\" points=\"620.68,-428.03 622.87,-417.67 614.69,-424.4 620.68,-428.03\"/>\r\n",
       "</g>\r\n",
       "<!-- 19 -->\r\n",
       "<g id=\"node20\" class=\"node\">\r\n",
       "<title>19</title>\r\n",
       "<path fill=\"#83efb0\" stroke=\"black\" d=\"M842,-663C842,-663 720,-663 720,-663 714,-663 708,-657 708,-651 708,-651 708,-592 708,-592 708,-586 714,-580 720,-580 720,-580 842,-580 842,-580 848,-580 854,-586 854,-592 854,-592 854,-651 854,-651 854,-657 848,-663 842,-663\"/>\r\n",
       "<text text-anchor=\"middle\" x=\"781\" y=\"-647.8\" font-family=\"Helvetica,sans-Serif\" font-size=\"14.00\">脯氨酸 &lt;= 795.771</text>\r\n",
       "<text text-anchor=\"middle\" x=\"781\" y=\"-632.8\" font-family=\"Helvetica,sans-Serif\" font-size=\"14.00\">entropy = 0.845</text>\r\n",
       "<text text-anchor=\"middle\" x=\"781\" y=\"-617.8\" font-family=\"Helvetica,sans-Serif\" font-size=\"14.00\">samples = 33</text>\r\n",
       "<text text-anchor=\"middle\" x=\"781\" y=\"-602.8\" font-family=\"Helvetica,sans-Serif\" font-size=\"14.00\">value = [9, 24, 0]</text>\r\n",
       "<text text-anchor=\"middle\" x=\"781\" y=\"-587.8\" font-family=\"Helvetica,sans-Serif\" font-size=\"14.00\">class = 雪梨</text>\r\n",
       "</g>\r\n",
       "<!-- 18&#45;&gt;19 -->\r\n",
       "<g id=\"edge19\" class=\"edge\">\r\n",
       "<title>18&#45;&gt;19</title>\r\n",
       "<path fill=\"none\" stroke=\"black\" d=\"M781,-698.91C781,-690.65 781,-681.86 781,-673.3\"/>\r\n",
       "<polygon fill=\"black\" stroke=\"black\" points=\"784.5,-673.02 781,-663.02 777.5,-673.02 784.5,-673.02\"/>\r\n",
       "</g>\r\n",
       "<!-- 22 -->\r\n",
       "<g id=\"node23\" class=\"node\">\r\n",
       "<title>22</title>\r\n",
       "<path fill=\"#eca36e\" stroke=\"black\" d=\"M1038.5,-663C1038.5,-663 941.5,-663 941.5,-663 935.5,-663 929.5,-657 929.5,-651 929.5,-651 929.5,-592 929.5,-592 929.5,-586 935.5,-580 941.5,-580 941.5,-580 1038.5,-580 1038.5,-580 1044.5,-580 1050.5,-586 1050.5,-592 1050.5,-592 1050.5,-651 1050.5,-651 1050.5,-657 1044.5,-663 1038.5,-663\"/>\r\n",
       "<text text-anchor=\"middle\" x=\"990\" y=\"-647.8\" font-family=\"Helvetica,sans-Serif\" font-size=\"14.00\">酒精 &lt;= 12.82</text>\r\n",
       "<text text-anchor=\"middle\" x=\"990\" y=\"-632.8\" font-family=\"Helvetica,sans-Serif\" font-size=\"14.00\">entropy = 0.742</text>\r\n",
       "<text text-anchor=\"middle\" x=\"990\" y=\"-617.8\" font-family=\"Helvetica,sans-Serif\" font-size=\"14.00\">samples = 38</text>\r\n",
       "<text text-anchor=\"middle\" x=\"990\" y=\"-602.8\" font-family=\"Helvetica,sans-Serif\" font-size=\"14.00\">value = [30, 8, 0]</text>\r\n",
       "<text text-anchor=\"middle\" x=\"990\" y=\"-587.8\" font-family=\"Helvetica,sans-Serif\" font-size=\"14.00\">class = 琴酒</text>\r\n",
       "</g>\r\n",
       "<!-- 18&#45;&gt;22 -->\r\n",
       "<g id=\"edge22\" class=\"edge\">\r\n",
       "<title>18&#45;&gt;22</title>\r\n",
       "<path fill=\"none\" stroke=\"black\" d=\"M845.7,-703.28C869.4,-690.01 896.32,-674.94 920.43,-661.45\"/>\r\n",
       "<polygon fill=\"black\" stroke=\"black\" points=\"922.16,-664.49 929.17,-656.55 918.74,-658.38 922.16,-664.49\"/>\r\n",
       "</g>\r\n",
       "<!-- 20 -->\r\n",
       "<g id=\"node21\" class=\"node\">\r\n",
       "<title>20</title>\r\n",
       "<path fill=\"#39e581\" stroke=\"black\" d=\"M772.5,-536.5C772.5,-536.5 675.5,-536.5 675.5,-536.5 669.5,-536.5 663.5,-530.5 663.5,-524.5 663.5,-524.5 663.5,-480.5 663.5,-480.5 663.5,-474.5 669.5,-468.5 675.5,-468.5 675.5,-468.5 772.5,-468.5 772.5,-468.5 778.5,-468.5 784.5,-474.5 784.5,-480.5 784.5,-480.5 784.5,-524.5 784.5,-524.5 784.5,-530.5 778.5,-536.5 772.5,-536.5\"/>\r\n",
       "<text text-anchor=\"middle\" x=\"724\" y=\"-521.3\" font-family=\"Helvetica,sans-Serif\" font-size=\"14.00\">entropy = 0.0</text>\r\n",
       "<text text-anchor=\"middle\" x=\"724\" y=\"-506.3\" font-family=\"Helvetica,sans-Serif\" font-size=\"14.00\">samples = 24</text>\r\n",
       "<text text-anchor=\"middle\" x=\"724\" y=\"-491.3\" font-family=\"Helvetica,sans-Serif\" font-size=\"14.00\">value = [0, 24, 0]</text>\r\n",
       "<text text-anchor=\"middle\" x=\"724\" y=\"-476.3\" font-family=\"Helvetica,sans-Serif\" font-size=\"14.00\">class = 雪梨</text>\r\n",
       "</g>\r\n",
       "<!-- 19&#45;&gt;20 -->\r\n",
       "<g id=\"edge20\" class=\"edge\">\r\n",
       "<title>19&#45;&gt;20</title>\r\n",
       "<path fill=\"none\" stroke=\"black\" d=\"M761.22,-579.91C755.85,-568.87 750.01,-556.9 744.59,-545.77\"/>\r\n",
       "<polygon fill=\"black\" stroke=\"black\" points=\"747.68,-544.12 740.16,-536.67 741.39,-547.19 747.68,-544.12\"/>\r\n",
       "</g>\r\n",
       "<!-- 21 -->\r\n",
       "<g id=\"node22\" class=\"node\">\r\n",
       "<title>21</title>\r\n",
       "<path fill=\"#e58139\" stroke=\"black\" d=\"M903.5,-536.5C903.5,-536.5 814.5,-536.5 814.5,-536.5 808.5,-536.5 802.5,-530.5 802.5,-524.5 802.5,-524.5 802.5,-480.5 802.5,-480.5 802.5,-474.5 808.5,-468.5 814.5,-468.5 814.5,-468.5 903.5,-468.5 903.5,-468.5 909.5,-468.5 915.5,-474.5 915.5,-480.5 915.5,-480.5 915.5,-524.5 915.5,-524.5 915.5,-530.5 909.5,-536.5 903.5,-536.5\"/>\r\n",
       "<text text-anchor=\"middle\" x=\"859\" y=\"-521.3\" font-family=\"Helvetica,sans-Serif\" font-size=\"14.00\">entropy = 0.0</text>\r\n",
       "<text text-anchor=\"middle\" x=\"859\" y=\"-506.3\" font-family=\"Helvetica,sans-Serif\" font-size=\"14.00\">samples = 9</text>\r\n",
       "<text text-anchor=\"middle\" x=\"859\" y=\"-491.3\" font-family=\"Helvetica,sans-Serif\" font-size=\"14.00\">value = [9, 0, 0]</text>\r\n",
       "<text text-anchor=\"middle\" x=\"859\" y=\"-476.3\" font-family=\"Helvetica,sans-Serif\" font-size=\"14.00\">class = 琴酒</text>\r\n",
       "</g>\r\n",
       "<!-- 19&#45;&gt;21 -->\r\n",
       "<g id=\"edge21\" class=\"edge\">\r\n",
       "<title>19&#45;&gt;21</title>\r\n",
       "<path fill=\"none\" stroke=\"black\" d=\"M808.06,-579.91C815.57,-568.65 823.72,-556.42 831.26,-545.11\"/>\r\n",
       "<polygon fill=\"black\" stroke=\"black\" points=\"834.25,-546.93 836.89,-536.67 828.43,-543.05 834.25,-546.93\"/>\r\n",
       "</g>\r\n",
       "<!-- 23 -->\r\n",
       "<g id=\"node24\" class=\"node\">\r\n",
       "<title>23</title>\r\n",
       "<path fill=\"#39e581\" stroke=\"black\" d=\"M1034.5,-536.5C1034.5,-536.5 945.5,-536.5 945.5,-536.5 939.5,-536.5 933.5,-530.5 933.5,-524.5 933.5,-524.5 933.5,-480.5 933.5,-480.5 933.5,-474.5 939.5,-468.5 945.5,-468.5 945.5,-468.5 1034.5,-468.5 1034.5,-468.5 1040.5,-468.5 1046.5,-474.5 1046.5,-480.5 1046.5,-480.5 1046.5,-524.5 1046.5,-524.5 1046.5,-530.5 1040.5,-536.5 1034.5,-536.5\"/>\r\n",
       "<text text-anchor=\"middle\" x=\"990\" y=\"-521.3\" font-family=\"Helvetica,sans-Serif\" font-size=\"14.00\">entropy = 0.0</text>\r\n",
       "<text text-anchor=\"middle\" x=\"990\" y=\"-506.3\" font-family=\"Helvetica,sans-Serif\" font-size=\"14.00\">samples = 7</text>\r\n",
       "<text text-anchor=\"middle\" x=\"990\" y=\"-491.3\" font-family=\"Helvetica,sans-Serif\" font-size=\"14.00\">value = [0, 7, 0]</text>\r\n",
       "<text text-anchor=\"middle\" x=\"990\" y=\"-476.3\" font-family=\"Helvetica,sans-Serif\" font-size=\"14.00\">class = 雪梨</text>\r\n",
       "</g>\r\n",
       "<!-- 22&#45;&gt;23 -->\r\n",
       "<g id=\"edge23\" class=\"edge\">\r\n",
       "<title>22&#45;&gt;23</title>\r\n",
       "<path fill=\"none\" stroke=\"black\" d=\"M990,-579.91C990,-569.2 990,-557.62 990,-546.78\"/>\r\n",
       "<polygon fill=\"black\" stroke=\"black\" points=\"993.5,-546.67 990,-536.67 986.5,-546.67 993.5,-546.67\"/>\r\n",
       "</g>\r\n",
       "<!-- 24 -->\r\n",
       "<g id=\"node25\" class=\"node\">\r\n",
       "<title>24</title>\r\n",
       "<path fill=\"#e68540\" stroke=\"black\" d=\"M1207.5,-544C1207.5,-544 1076.5,-544 1076.5,-544 1070.5,-544 1064.5,-538 1064.5,-532 1064.5,-532 1064.5,-473 1064.5,-473 1064.5,-467 1070.5,-461 1076.5,-461 1076.5,-461 1207.5,-461 1207.5,-461 1213.5,-461 1219.5,-467 1219.5,-473 1219.5,-473 1219.5,-532 1219.5,-532 1219.5,-538 1213.5,-544 1207.5,-544\"/>\r\n",
       "<text text-anchor=\"middle\" x=\"1142\" y=\"-528.8\" font-family=\"Helvetica,sans-Serif\" font-size=\"14.00\">灰的碱性 &lt;= 27.476</text>\r\n",
       "<text text-anchor=\"middle\" x=\"1142\" y=\"-513.8\" font-family=\"Helvetica,sans-Serif\" font-size=\"14.00\">entropy = 0.206</text>\r\n",
       "<text text-anchor=\"middle\" x=\"1142\" y=\"-498.8\" font-family=\"Helvetica,sans-Serif\" font-size=\"14.00\">samples = 31</text>\r\n",
       "<text text-anchor=\"middle\" x=\"1142\" y=\"-483.8\" font-family=\"Helvetica,sans-Serif\" font-size=\"14.00\">value = [30, 1, 0]</text>\r\n",
       "<text text-anchor=\"middle\" x=\"1142\" y=\"-468.8\" font-family=\"Helvetica,sans-Serif\" font-size=\"14.00\">class = 琴酒</text>\r\n",
       "</g>\r\n",
       "<!-- 22&#45;&gt;24 -->\r\n",
       "<g id=\"edge24\" class=\"edge\">\r\n",
       "<title>22&#45;&gt;24</title>\r\n",
       "<path fill=\"none\" stroke=\"black\" d=\"M1042.74,-579.91C1055.12,-570.38 1068.41,-560.15 1081.11,-550.37\"/>\r\n",
       "<polygon fill=\"black\" stroke=\"black\" points=\"1083.57,-552.89 1089.36,-544.02 1079.3,-547.35 1083.57,-552.89\"/>\r\n",
       "</g>\r\n",
       "<!-- 25 -->\r\n",
       "<g id=\"node26\" class=\"node\">\r\n",
       "<title>25</title>\r\n",
       "<path fill=\"#e58139\" stroke=\"black\" d=\"M1122.5,-417.5C1122.5,-417.5 1025.5,-417.5 1025.5,-417.5 1019.5,-417.5 1013.5,-411.5 1013.5,-405.5 1013.5,-405.5 1013.5,-361.5 1013.5,-361.5 1013.5,-355.5 1019.5,-349.5 1025.5,-349.5 1025.5,-349.5 1122.5,-349.5 1122.5,-349.5 1128.5,-349.5 1134.5,-355.5 1134.5,-361.5 1134.5,-361.5 1134.5,-405.5 1134.5,-405.5 1134.5,-411.5 1128.5,-417.5 1122.5,-417.5\"/>\r\n",
       "<text text-anchor=\"middle\" x=\"1074\" y=\"-402.3\" font-family=\"Helvetica,sans-Serif\" font-size=\"14.00\">entropy = 0.0</text>\r\n",
       "<text text-anchor=\"middle\" x=\"1074\" y=\"-387.3\" font-family=\"Helvetica,sans-Serif\" font-size=\"14.00\">samples = 30</text>\r\n",
       "<text text-anchor=\"middle\" x=\"1074\" y=\"-372.3\" font-family=\"Helvetica,sans-Serif\" font-size=\"14.00\">value = [30, 0, 0]</text>\r\n",
       "<text text-anchor=\"middle\" x=\"1074\" y=\"-357.3\" font-family=\"Helvetica,sans-Serif\" font-size=\"14.00\">class = 琴酒</text>\r\n",
       "</g>\r\n",
       "<!-- 24&#45;&gt;25 -->\r\n",
       "<g id=\"edge25\" class=\"edge\">\r\n",
       "<title>24&#45;&gt;25</title>\r\n",
       "<path fill=\"none\" stroke=\"black\" d=\"M1118.41,-460.91C1111.93,-449.76 1104.9,-437.66 1098.37,-426.44\"/>\r\n",
       "<polygon fill=\"black\" stroke=\"black\" points=\"1101.33,-424.55 1093.28,-417.67 1095.28,-428.07 1101.33,-424.55\"/>\r\n",
       "</g>\r\n",
       "<!-- 26 -->\r\n",
       "<g id=\"node27\" class=\"node\">\r\n",
       "<title>26</title>\r\n",
       "<path fill=\"#39e581\" stroke=\"black\" d=\"M1253.5,-417.5C1253.5,-417.5 1164.5,-417.5 1164.5,-417.5 1158.5,-417.5 1152.5,-411.5 1152.5,-405.5 1152.5,-405.5 1152.5,-361.5 1152.5,-361.5 1152.5,-355.5 1158.5,-349.5 1164.5,-349.5 1164.5,-349.5 1253.5,-349.5 1253.5,-349.5 1259.5,-349.5 1265.5,-355.5 1265.5,-361.5 1265.5,-361.5 1265.5,-405.5 1265.5,-405.5 1265.5,-411.5 1259.5,-417.5 1253.5,-417.5\"/>\r\n",
       "<text text-anchor=\"middle\" x=\"1209\" y=\"-402.3\" font-family=\"Helvetica,sans-Serif\" font-size=\"14.00\">entropy = 0.0</text>\r\n",
       "<text text-anchor=\"middle\" x=\"1209\" y=\"-387.3\" font-family=\"Helvetica,sans-Serif\" font-size=\"14.00\">samples = 1</text>\r\n",
       "<text text-anchor=\"middle\" x=\"1209\" y=\"-372.3\" font-family=\"Helvetica,sans-Serif\" font-size=\"14.00\">value = [0, 1, 0]</text>\r\n",
       "<text text-anchor=\"middle\" x=\"1209\" y=\"-357.3\" font-family=\"Helvetica,sans-Serif\" font-size=\"14.00\">class = 雪梨</text>\r\n",
       "</g>\r\n",
       "<!-- 24&#45;&gt;26 -->\r\n",
       "<g id=\"edge26\" class=\"edge\">\r\n",
       "<title>24&#45;&gt;26</title>\r\n",
       "<path fill=\"none\" stroke=\"black\" d=\"M1165.25,-460.91C1171.63,-449.76 1178.56,-437.66 1184.98,-426.44\"/>\r\n",
       "<polygon fill=\"black\" stroke=\"black\" points=\"1188.07,-428.08 1190.01,-417.67 1182,-424.61 1188.07,-428.08\"/>\r\n",
       "</g>\r\n",
       "</g>\r\n",
       "</svg>\r\n"
      ],
      "text/plain": [
       "<graphviz.files.Source at 0x258671cefa0>"
      ]
     },
     "execution_count": 33,
     "metadata": {},
     "output_type": "execute_result"
    }
   ],
   "source": [
    "# 特征名字列表\n",
    "feature_name = ['酒精','苹果酸','灰','灰的碱性','镁','总酚','类黄酮','非黄烷类酚类','花青素','颜色强度','色调','od280/od315稀释葡萄酒','脯氨酸']\n",
    "\n",
    "# 导入画图库\n",
    "import graphviz\n",
    "\n",
    "# 传入所需数据\n",
    "dot_data = tree.export_graphviz(clf\n",
    "                                ,out_file = None\n",
    "                                ,feature_names = feature_name\n",
    "                                ,class_names = [\"琴酒\",\"雪梨\",\"贝尔摩德\"]\n",
    "                                ,filled = True           # 填充块的颜色\n",
    "                                ,rounded = True\n",
    ")\n",
    "\n",
    "# 画图\n",
    "graph = graphviz.Source(dot_data)\n",
    "\n",
    "# 显示图形\n",
    "graph"
   ]
  },
  {
   "cell_type": "markdown",
   "id": "9a74c542",
   "metadata": {},
   "source": [
    "## 6.探索决策树"
   ]
  },
  {
   "cell_type": "code",
   "execution_count": 34,
   "id": "0494bce8",
   "metadata": {},
   "outputs": [
    {
     "data": {
      "text/plain": [
       "array([0.14958652, 0.        , 0.        , 0.03277269, 0.07399654,\n",
       "       0.01586947, 0.41106267, 0.        , 0.        , 0.        ,\n",
       "       0.09475523, 0.06182225, 0.16013464])"
      ]
     },
     "execution_count": 34,
     "metadata": {},
     "output_type": "execute_result"
    }
   ],
   "source": [
    "# 特征重要性\n",
    "clf.feature_importances_"
   ]
  },
  {
   "cell_type": "code",
   "execution_count": 35,
   "id": "ce927aed",
   "metadata": {},
   "outputs": [
    {
     "data": {
      "text/plain": [
       "[('酒精', 0.14958652061803385),\n",
       " ('苹果酸', 0.0),\n",
       " ('灰', 0.0),\n",
       " ('灰的碱性', 0.03277268548464016),\n",
       " ('镁', 0.07399653818256281),\n",
       " ('总酚', 0.015869468435216926),\n",
       " ('类黄酮', 0.4110626720457213),\n",
       " ('非黄烷类酚类', 0.0),\n",
       " ('花青素', 0.0),\n",
       " ('颜色强度', 0.0),\n",
       " ('色调', 0.0947552303325241),\n",
       " ('od280/od315稀释葡萄酒', 0.06182224919512044),\n",
       " ('脯氨酸', 0.1601346357061804)]"
      ]
     },
     "execution_count": 35,
     "metadata": {},
     "output_type": "execute_result"
    }
   ],
   "source": [
    "# 特征名字与特征重要性\n",
    "[*zip(feature_name,clf.feature_importances_)]"
   ]
  },
  {
   "cell_type": "markdown",
   "id": "cb21e3fc",
   "metadata": {},
   "source": [
    "# 剪枝优化"
   ]
  },
  {
   "cell_type": "markdown",
   "id": "aaf72a2e",
   "metadata": {},
   "source": [
    "## 1.剪枝参数"
   ]
  },
  {
   "cell_type": "code",
   "execution_count": 36,
   "id": "2fc6687c",
   "metadata": {},
   "outputs": [
    {
     "data": {
      "text/plain": [
       "1.0"
      ]
     },
     "execution_count": 36,
     "metadata": {},
     "output_type": "execute_result"
    }
   ],
   "source": [
    "# 查看对训练集的拟合程度\n",
    "score_train = clf.score(Xtrain, Ytrain)\n",
    "score_train"
   ]
  },
  {
   "cell_type": "code",
   "execution_count": 49,
   "id": "b710210e",
   "metadata": {},
   "outputs": [
    {
     "data": {
      "image/svg+xml": [
       "<?xml version=\"1.0\" encoding=\"UTF-8\" standalone=\"no\"?>\r\n",
       "<!DOCTYPE svg PUBLIC \"-//W3C//DTD SVG 1.1//EN\"\r\n",
       " \"http://www.w3.org/Graphics/SVG/1.1/DTD/svg11.dtd\">\r\n",
       "<!-- Generated by graphviz version 2.47.2 (20210527.0053)\r\n",
       " -->\r\n",
       "<!-- Title: Tree Pages: 1 -->\r\n",
       "<svg width=\"800pt\" height=\"433pt\"\r\n",
       " viewBox=\"0.00 0.00 799.50 433.00\" xmlns=\"http://www.w3.org/2000/svg\" xmlns:xlink=\"http://www.w3.org/1999/xlink\">\r\n",
       "<g id=\"graph0\" class=\"graph\" transform=\"scale(1 1) rotate(0) translate(4 429)\">\r\n",
       "<title>Tree</title>\r\n",
       "<polygon fill=\"white\" stroke=\"transparent\" points=\"-4,4 -4,-429 795.5,-429 795.5,4 -4,4\"/>\r\n",
       "<!-- 0 -->\r\n",
       "<g id=\"node1\" class=\"node\">\r\n",
       "<title>0</title>\r\n",
       "<path fill=\"#e5fcef\" stroke=\"black\" d=\"M489.5,-425C489.5,-425 376.5,-425 376.5,-425 370.5,-425 364.5,-419 364.5,-413 364.5,-413 364.5,-354 364.5,-354 364.5,-348 370.5,-342 376.5,-342 376.5,-342 489.5,-342 489.5,-342 495.5,-342 501.5,-348 501.5,-354 501.5,-354 501.5,-413 501.5,-413 501.5,-419 495.5,-425 489.5,-425\"/>\r\n",
       "<text text-anchor=\"middle\" x=\"433\" y=\"-409.8\" font-family=\"Helvetica,sans-Serif\" font-size=\"14.00\">类黄酮 &lt;= 1.641</text>\r\n",
       "<text text-anchor=\"middle\" x=\"433\" y=\"-394.8\" font-family=\"Helvetica,sans-Serif\" font-size=\"14.00\">entropy = 1.568</text>\r\n",
       "<text text-anchor=\"middle\" x=\"433\" y=\"-379.8\" font-family=\"Helvetica,sans-Serif\" font-size=\"14.00\">samples = 124</text>\r\n",
       "<text text-anchor=\"middle\" x=\"433\" y=\"-364.8\" font-family=\"Helvetica,sans-Serif\" font-size=\"14.00\">value = [39, 50, 35]</text>\r\n",
       "<text text-anchor=\"middle\" x=\"433\" y=\"-349.8\" font-family=\"Helvetica,sans-Serif\" font-size=\"14.00\">class = 雪梨</text>\r\n",
       "</g>\r\n",
       "<!-- 1 -->\r\n",
       "<g id=\"node2\" class=\"node\">\r\n",
       "<title>1</title>\r\n",
       "<path fill=\"#c29ff2\" stroke=\"black\" d=\"M442,-306C442,-306 216,-306 216,-306 210,-306 204,-300 204,-294 204,-294 204,-235 204,-235 204,-229 210,-223 216,-223 216,-223 442,-223 442,-223 448,-223 454,-229 454,-235 454,-235 454,-294 454,-294 454,-300 448,-306 442,-306\"/>\r\n",
       "<text text-anchor=\"middle\" x=\"329\" y=\"-290.8\" font-family=\"Helvetica,sans-Serif\" font-size=\"14.00\">od280/od315稀释葡萄酒 &lt;= 2.112</text>\r\n",
       "<text text-anchor=\"middle\" x=\"329\" y=\"-275.8\" font-family=\"Helvetica,sans-Serif\" font-size=\"14.00\">entropy = 0.924</text>\r\n",
       "<text text-anchor=\"middle\" x=\"329\" y=\"-260.8\" font-family=\"Helvetica,sans-Serif\" font-size=\"14.00\">samples = 53</text>\r\n",
       "<text text-anchor=\"middle\" x=\"329\" y=\"-245.8\" font-family=\"Helvetica,sans-Serif\" font-size=\"14.00\">value = [0, 18, 35]</text>\r\n",
       "<text text-anchor=\"middle\" x=\"329\" y=\"-230.8\" font-family=\"Helvetica,sans-Serif\" font-size=\"14.00\">class = 贝尔摩德</text>\r\n",
       "</g>\r\n",
       "<!-- 0&#45;&gt;1 -->\r\n",
       "<g id=\"edge1\" class=\"edge\">\r\n",
       "<title>0&#45;&gt;1</title>\r\n",
       "<path fill=\"none\" stroke=\"black\" d=\"M396.92,-341.91C388.85,-332.83 380.22,-323.12 371.91,-313.77\"/>\r\n",
       "<polygon fill=\"black\" stroke=\"black\" points=\"374.28,-311.17 365.02,-306.02 369.05,-315.82 374.28,-311.17\"/>\r\n",
       "<text text-anchor=\"middle\" x=\"363.55\" y=\"-327.28\" font-family=\"Helvetica,sans-Serif\" font-size=\"14.00\">True</text>\r\n",
       "</g>\r\n",
       "<!-- 6 -->\r\n",
       "<g id=\"node7\" class=\"node\">\r\n",
       "<title>6</title>\r\n",
       "<path fill=\"#fae8db\" stroke=\"black\" d=\"M589.5,-306C589.5,-306 484.5,-306 484.5,-306 478.5,-306 472.5,-300 472.5,-294 472.5,-294 472.5,-235 472.5,-235 472.5,-229 478.5,-223 484.5,-223 484.5,-223 589.5,-223 589.5,-223 595.5,-223 601.5,-229 601.5,-235 601.5,-235 601.5,-294 601.5,-294 601.5,-300 595.5,-306 589.5,-306\"/>\r\n",
       "<text text-anchor=\"middle\" x=\"537\" y=\"-290.8\" font-family=\"Helvetica,sans-Serif\" font-size=\"14.00\">类黄酮 &lt;= 2.38</text>\r\n",
       "<text text-anchor=\"middle\" x=\"537\" y=\"-275.8\" font-family=\"Helvetica,sans-Serif\" font-size=\"14.00\">entropy = 0.993</text>\r\n",
       "<text text-anchor=\"middle\" x=\"537\" y=\"-260.8\" font-family=\"Helvetica,sans-Serif\" font-size=\"14.00\">samples = 71</text>\r\n",
       "<text text-anchor=\"middle\" x=\"537\" y=\"-245.8\" font-family=\"Helvetica,sans-Serif\" font-size=\"14.00\">value = [39, 32, 0]</text>\r\n",
       "<text text-anchor=\"middle\" x=\"537\" y=\"-230.8\" font-family=\"Helvetica,sans-Serif\" font-size=\"14.00\">class = 琴酒</text>\r\n",
       "</g>\r\n",
       "<!-- 0&#45;&gt;6 -->\r\n",
       "<g id=\"edge6\" class=\"edge\">\r\n",
       "<title>0&#45;&gt;6</title>\r\n",
       "<path fill=\"none\" stroke=\"black\" d=\"M469.08,-341.91C477.15,-332.83 485.78,-323.12 494.09,-313.77\"/>\r\n",
       "<polygon fill=\"black\" stroke=\"black\" points=\"496.95,-315.82 500.98,-306.02 491.72,-311.17 496.95,-315.82\"/>\r\n",
       "<text text-anchor=\"middle\" x=\"502.45\" y=\"-327.28\" font-family=\"Helvetica,sans-Serif\" font-size=\"14.00\">False</text>\r\n",
       "</g>\r\n",
       "<!-- 2 -->\r\n",
       "<g id=\"node3\" class=\"node\">\r\n",
       "<title>2</title>\r\n",
       "<path fill=\"#9d64eb\" stroke=\"black\" d=\"M256,-187C256,-187 30,-187 30,-187 24,-187 18,-181 18,-175 18,-175 18,-116 18,-116 18,-110 24,-104 30,-104 30,-104 256,-104 256,-104 262,-104 268,-110 268,-116 268,-116 268,-175 268,-175 268,-181 262,-187 256,-187\"/>\r\n",
       "<text text-anchor=\"middle\" x=\"143\" y=\"-171.8\" font-family=\"Helvetica,sans-Serif\" font-size=\"14.00\">od280/od315稀释葡萄酒 &lt;= 1.516</text>\r\n",
       "<text text-anchor=\"middle\" x=\"143\" y=\"-156.8\" font-family=\"Helvetica,sans-Serif\" font-size=\"14.00\">entropy = 0.679</text>\r\n",
       "<text text-anchor=\"middle\" x=\"143\" y=\"-141.8\" font-family=\"Helvetica,sans-Serif\" font-size=\"14.00\">samples = 39</text>\r\n",
       "<text text-anchor=\"middle\" x=\"143\" y=\"-126.8\" font-family=\"Helvetica,sans-Serif\" font-size=\"14.00\">value = [0, 7, 32]</text>\r\n",
       "<text text-anchor=\"middle\" x=\"143\" y=\"-111.8\" font-family=\"Helvetica,sans-Serif\" font-size=\"14.00\">class = 贝尔摩德</text>\r\n",
       "</g>\r\n",
       "<!-- 1&#45;&gt;2 -->\r\n",
       "<g id=\"edge2\" class=\"edge\">\r\n",
       "<title>1&#45;&gt;2</title>\r\n",
       "<path fill=\"none\" stroke=\"black\" d=\"M264.47,-222.91C248.89,-213.11 232.13,-202.56 216.18,-192.53\"/>\r\n",
       "<polygon fill=\"black\" stroke=\"black\" points=\"217.75,-189.38 207.42,-187.02 214.02,-195.31 217.75,-189.38\"/>\r\n",
       "</g>\r\n",
       "<!-- 5 -->\r\n",
       "<g id=\"node6\" class=\"node\">\r\n",
       "<title>5</title>\r\n",
       "<path fill=\"#6feca3\" stroke=\"black\" d=\"M395.5,-179.5C395.5,-179.5 298.5,-179.5 298.5,-179.5 292.5,-179.5 286.5,-173.5 286.5,-167.5 286.5,-167.5 286.5,-123.5 286.5,-123.5 286.5,-117.5 292.5,-111.5 298.5,-111.5 298.5,-111.5 395.5,-111.5 395.5,-111.5 401.5,-111.5 407.5,-117.5 407.5,-123.5 407.5,-123.5 407.5,-167.5 407.5,-167.5 407.5,-173.5 401.5,-179.5 395.5,-179.5\"/>\r\n",
       "<text text-anchor=\"middle\" x=\"347\" y=\"-164.3\" font-family=\"Helvetica,sans-Serif\" font-size=\"14.00\">entropy = 0.75</text>\r\n",
       "<text text-anchor=\"middle\" x=\"347\" y=\"-149.3\" font-family=\"Helvetica,sans-Serif\" font-size=\"14.00\">samples = 14</text>\r\n",
       "<text text-anchor=\"middle\" x=\"347\" y=\"-134.3\" font-family=\"Helvetica,sans-Serif\" font-size=\"14.00\">value = [0, 11, 3]</text>\r\n",
       "<text text-anchor=\"middle\" x=\"347\" y=\"-119.3\" font-family=\"Helvetica,sans-Serif\" font-size=\"14.00\">class = 雪梨</text>\r\n",
       "</g>\r\n",
       "<!-- 1&#45;&gt;5 -->\r\n",
       "<g id=\"edge5\" class=\"edge\">\r\n",
       "<title>1&#45;&gt;5</title>\r\n",
       "<path fill=\"none\" stroke=\"black\" d=\"M335.25,-222.91C336.89,-212.2 338.67,-200.62 340.34,-189.78\"/>\r\n",
       "<polygon fill=\"black\" stroke=\"black\" points=\"343.84,-190.08 341.9,-179.67 336.92,-189.02 343.84,-190.08\"/>\r\n",
       "</g>\r\n",
       "<!-- 3 -->\r\n",
       "<g id=\"node4\" class=\"node\">\r\n",
       "<title>3</title>\r\n",
       "<path fill=\"#8139e5\" stroke=\"black\" d=\"M122,-68C122,-68 12,-68 12,-68 6,-68 0,-62 0,-56 0,-56 0,-12 0,-12 0,-6 6,0 12,0 12,0 122,0 122,0 128,0 134,-6 134,-12 134,-12 134,-56 134,-56 134,-62 128,-68 122,-68\"/>\r\n",
       "<text text-anchor=\"middle\" x=\"67\" y=\"-52.8\" font-family=\"Helvetica,sans-Serif\" font-size=\"14.00\">entropy = 0.0</text>\r\n",
       "<text text-anchor=\"middle\" x=\"67\" y=\"-37.8\" font-family=\"Helvetica,sans-Serif\" font-size=\"14.00\">samples = 10</text>\r\n",
       "<text text-anchor=\"middle\" x=\"67\" y=\"-22.8\" font-family=\"Helvetica,sans-Serif\" font-size=\"14.00\">value = [0, 0, 10]</text>\r\n",
       "<text text-anchor=\"middle\" x=\"67\" y=\"-7.8\" font-family=\"Helvetica,sans-Serif\" font-size=\"14.00\">class = 贝尔摩德</text>\r\n",
       "</g>\r\n",
       "<!-- 2&#45;&gt;3 -->\r\n",
       "<g id=\"edge3\" class=\"edge\">\r\n",
       "<title>2&#45;&gt;3</title>\r\n",
       "<path fill=\"none\" stroke=\"black\" d=\"M114.7,-103.73C108.56,-94.88 102.06,-85.51 95.89,-76.63\"/>\r\n",
       "<polygon fill=\"black\" stroke=\"black\" points=\"98.69,-74.52 90.11,-68.3 92.94,-78.51 98.69,-74.52\"/>\r\n",
       "</g>\r\n",
       "<!-- 4 -->\r\n",
       "<g id=\"node5\" class=\"node\">\r\n",
       "<title>4</title>\r\n",
       "<path fill=\"#a978ed\" stroke=\"black\" d=\"M274,-68C274,-68 164,-68 164,-68 158,-68 152,-62 152,-56 152,-56 152,-12 152,-12 152,-6 158,0 164,0 164,0 274,0 274,0 280,0 286,-6 286,-12 286,-12 286,-56 286,-56 286,-62 280,-68 274,-68\"/>\r\n",
       "<text text-anchor=\"middle\" x=\"219\" y=\"-52.8\" font-family=\"Helvetica,sans-Serif\" font-size=\"14.00\">entropy = 0.797</text>\r\n",
       "<text text-anchor=\"middle\" x=\"219\" y=\"-37.8\" font-family=\"Helvetica,sans-Serif\" font-size=\"14.00\">samples = 29</text>\r\n",
       "<text text-anchor=\"middle\" x=\"219\" y=\"-22.8\" font-family=\"Helvetica,sans-Serif\" font-size=\"14.00\">value = [0, 7, 22]</text>\r\n",
       "<text text-anchor=\"middle\" x=\"219\" y=\"-7.8\" font-family=\"Helvetica,sans-Serif\" font-size=\"14.00\">class = 贝尔摩德</text>\r\n",
       "</g>\r\n",
       "<!-- 2&#45;&gt;4 -->\r\n",
       "<g id=\"edge4\" class=\"edge\">\r\n",
       "<title>2&#45;&gt;4</title>\r\n",
       "<path fill=\"none\" stroke=\"black\" d=\"M171.3,-103.73C177.44,-94.88 183.94,-85.51 190.11,-76.63\"/>\r\n",
       "<polygon fill=\"black\" stroke=\"black\" points=\"193.06,-78.51 195.89,-68.3 187.31,-74.52 193.06,-78.51\"/>\r\n",
       "</g>\r\n",
       "<!-- 7 -->\r\n",
       "<g id=\"node8\" class=\"node\">\r\n",
       "<title>7</title>\r\n",
       "<path fill=\"#39e581\" stroke=\"black\" d=\"M568.5,-179.5C568.5,-179.5 471.5,-179.5 471.5,-179.5 465.5,-179.5 459.5,-173.5 459.5,-167.5 459.5,-167.5 459.5,-123.5 459.5,-123.5 459.5,-117.5 465.5,-111.5 471.5,-111.5 471.5,-111.5 568.5,-111.5 568.5,-111.5 574.5,-111.5 580.5,-117.5 580.5,-123.5 580.5,-123.5 580.5,-167.5 580.5,-167.5 580.5,-173.5 574.5,-179.5 568.5,-179.5\"/>\r\n",
       "<text text-anchor=\"middle\" x=\"520\" y=\"-164.3\" font-family=\"Helvetica,sans-Serif\" font-size=\"14.00\">entropy = 0.0</text>\r\n",
       "<text text-anchor=\"middle\" x=\"520\" y=\"-149.3\" font-family=\"Helvetica,sans-Serif\" font-size=\"14.00\">samples = 21</text>\r\n",
       "<text text-anchor=\"middle\" x=\"520\" y=\"-134.3\" font-family=\"Helvetica,sans-Serif\" font-size=\"14.00\">value = [0, 21, 0]</text>\r\n",
       "<text text-anchor=\"middle\" x=\"520\" y=\"-119.3\" font-family=\"Helvetica,sans-Serif\" font-size=\"14.00\">class = 雪梨</text>\r\n",
       "</g>\r\n",
       "<!-- 6&#45;&gt;7 -->\r\n",
       "<g id=\"edge7\" class=\"edge\">\r\n",
       "<title>6&#45;&gt;7</title>\r\n",
       "<path fill=\"none\" stroke=\"black\" d=\"M531.1,-222.91C529.55,-212.2 527.86,-200.62 526.29,-189.78\"/>\r\n",
       "<polygon fill=\"black\" stroke=\"black\" points=\"529.72,-189.06 524.82,-179.67 522.79,-190.07 529.72,-189.06\"/>\r\n",
       "</g>\r\n",
       "<!-- 8 -->\r\n",
       "<g id=\"node9\" class=\"node\">\r\n",
       "<title>8</title>\r\n",
       "<path fill=\"#eca571\" stroke=\"black\" d=\"M715.5,-187C715.5,-187 610.5,-187 610.5,-187 604.5,-187 598.5,-181 598.5,-175 598.5,-175 598.5,-116 598.5,-116 598.5,-110 604.5,-104 610.5,-104 610.5,-104 715.5,-104 715.5,-104 721.5,-104 727.5,-110 727.5,-116 727.5,-116 727.5,-175 727.5,-175 727.5,-181 721.5,-187 715.5,-187\"/>\r\n",
       "<text text-anchor=\"middle\" x=\"663\" y=\"-171.8\" font-family=\"Helvetica,sans-Serif\" font-size=\"14.00\">镁 &lt;= 93.949</text>\r\n",
       "<text text-anchor=\"middle\" x=\"663\" y=\"-156.8\" font-family=\"Helvetica,sans-Serif\" font-size=\"14.00\">entropy = 0.76</text>\r\n",
       "<text text-anchor=\"middle\" x=\"663\" y=\"-141.8\" font-family=\"Helvetica,sans-Serif\" font-size=\"14.00\">samples = 50</text>\r\n",
       "<text text-anchor=\"middle\" x=\"663\" y=\"-126.8\" font-family=\"Helvetica,sans-Serif\" font-size=\"14.00\">value = [39, 11, 0]</text>\r\n",
       "<text text-anchor=\"middle\" x=\"663\" y=\"-111.8\" font-family=\"Helvetica,sans-Serif\" font-size=\"14.00\">class = 琴酒</text>\r\n",
       "</g>\r\n",
       "<!-- 6&#45;&gt;8 -->\r\n",
       "<g id=\"edge8\" class=\"edge\">\r\n",
       "<title>6&#45;&gt;8</title>\r\n",
       "<path fill=\"none\" stroke=\"black\" d=\"M580.72,-222.91C590.78,-213.56 601.57,-203.54 611.92,-193.93\"/>\r\n",
       "<polygon fill=\"black\" stroke=\"black\" points=\"614.42,-196.39 619.36,-187.02 609.65,-191.26 614.42,-196.39\"/>\r\n",
       "</g>\r\n",
       "<!-- 9 -->\r\n",
       "<g id=\"node10\" class=\"node\">\r\n",
       "<title>9</title>\r\n",
       "<path fill=\"#8ef0b7\" stroke=\"black\" d=\"M640,-68C640,-68 548,-68 548,-68 542,-68 536,-62 536,-56 536,-56 536,-12 536,-12 536,-6 542,0 548,0 548,0 640,0 640,0 646,0 652,-6 652,-12 652,-12 652,-56 652,-56 652,-62 646,-68 640,-68\"/>\r\n",
       "<text text-anchor=\"middle\" x=\"594\" y=\"-52.8\" font-family=\"Helvetica,sans-Serif\" font-size=\"14.00\">entropy = 0.881</text>\r\n",
       "<text text-anchor=\"middle\" x=\"594\" y=\"-37.8\" font-family=\"Helvetica,sans-Serif\" font-size=\"14.00\">samples = 10</text>\r\n",
       "<text text-anchor=\"middle\" x=\"594\" y=\"-22.8\" font-family=\"Helvetica,sans-Serif\" font-size=\"14.00\">value = [3, 7, 0]</text>\r\n",
       "<text text-anchor=\"middle\" x=\"594\" y=\"-7.8\" font-family=\"Helvetica,sans-Serif\" font-size=\"14.00\">class = 雪梨</text>\r\n",
       "</g>\r\n",
       "<!-- 8&#45;&gt;9 -->\r\n",
       "<g id=\"edge9\" class=\"edge\">\r\n",
       "<title>8&#45;&gt;9</title>\r\n",
       "<path fill=\"none\" stroke=\"black\" d=\"M637.31,-103.73C631.79,-94.97 625.95,-85.7 620.41,-76.91\"/>\r\n",
       "<polygon fill=\"black\" stroke=\"black\" points=\"623.28,-74.89 614.98,-68.3 617.35,-78.63 623.28,-74.89\"/>\r\n",
       "</g>\r\n",
       "<!-- 10 -->\r\n",
       "<g id=\"node11\" class=\"node\">\r\n",
       "<title>10</title>\r\n",
       "<path fill=\"#e88f4f\" stroke=\"black\" d=\"M779.5,-68C779.5,-68 682.5,-68 682.5,-68 676.5,-68 670.5,-62 670.5,-56 670.5,-56 670.5,-12 670.5,-12 670.5,-6 676.5,0 682.5,0 682.5,0 779.5,0 779.5,0 785.5,0 791.5,-6 791.5,-12 791.5,-12 791.5,-56 791.5,-56 791.5,-62 785.5,-68 779.5,-68\"/>\r\n",
       "<text text-anchor=\"middle\" x=\"731\" y=\"-52.8\" font-family=\"Helvetica,sans-Serif\" font-size=\"14.00\">entropy = 0.469</text>\r\n",
       "<text text-anchor=\"middle\" x=\"731\" y=\"-37.8\" font-family=\"Helvetica,sans-Serif\" font-size=\"14.00\">samples = 40</text>\r\n",
       "<text text-anchor=\"middle\" x=\"731\" y=\"-22.8\" font-family=\"Helvetica,sans-Serif\" font-size=\"14.00\">value = [36, 4, 0]</text>\r\n",
       "<text text-anchor=\"middle\" x=\"731\" y=\"-7.8\" font-family=\"Helvetica,sans-Serif\" font-size=\"14.00\">class = 琴酒</text>\r\n",
       "</g>\r\n",
       "<!-- 8&#45;&gt;10 -->\r\n",
       "<g id=\"edge10\" class=\"edge\">\r\n",
       "<title>8&#45;&gt;10</title>\r\n",
       "<path fill=\"none\" stroke=\"black\" d=\"M688.32,-103.73C693.76,-94.97 699.51,-85.7 704.98,-76.91\"/>\r\n",
       "<polygon fill=\"black\" stroke=\"black\" points=\"708.02,-78.64 710.32,-68.3 702.07,-74.95 708.02,-78.64\"/>\r\n",
       "</g>\r\n",
       "</g>\r\n",
       "</svg>\r\n"
      ],
      "text/plain": [
       "<graphviz.files.Source at 0x2586363f430>"
      ]
     },
     "execution_count": 49,
     "metadata": {},
     "output_type": "execute_result"
    }
   ],
   "source": [
    "# max_depth-->限制树的最大深度，超过设定深度的树枝全部剪掉\n",
    "# min_samples_leaf-->每个结点的子结点至少含有min_samples_leaf个结点时，这个结点才能继续分枝\n",
    "# min_samples_split-->每个结点至少含有min_samples_split个结点才能继续分枝\n",
    "\n",
    "# 使用决策树模型\n",
    "clf = tree.DecisionTreeClassifier(criterion = \"entropy\"\n",
    "                                  ,random_state = 30\n",
    "                                  ,splitter = \"random\"\n",
    "                                  ,max_depth = 3\n",
    "#                                   ,min_samples_leaf = 10\n",
    "#                                   ,min_samples_split = 25\n",
    ")\n",
    "\n",
    "# 传入数据\n",
    "clf = clf.fit(Xtrain, Ytrain)\\\n",
    "\n",
    "\n",
    "# 传入画图所需数据\n",
    "dot_data = tree.export_graphviz(clf\n",
    "                                ,feature_names = feature_name\n",
    "                                ,class_names = [\"琴酒\",\"雪梨\",\"贝尔摩德\"]\n",
    "                                ,filled = True\n",
    "                                ,rounded = True\n",
    ")\n",
    "\n",
    "# 画图\n",
    "graph = graphviz.Source(dot_data)\n",
    "\n",
    "# 显示图形\n",
    "graph"
   ]
  },
  {
   "cell_type": "code",
   "execution_count": 50,
   "id": "3959cc1b",
   "metadata": {},
   "outputs": [
    {
     "data": {
      "text/plain": [
       "0.8518518518518519"
      ]
     },
     "execution_count": 50,
     "metadata": {},
     "output_type": "execute_result"
    }
   ],
   "source": [
    "# 显示拟合度\n",
    "score = clf.score(Xtest, Ytest)\n",
    "score"
   ]
  },
  {
   "cell_type": "markdown",
   "id": "f4395ba0",
   "metadata": {},
   "source": [
    "## 2.确认最优的剪枝参数"
   ]
  },
  {
   "cell_type": "code",
   "execution_count": 53,
   "id": "237118b5",
   "metadata": {
    "collapsed": true
   },
   "outputs": [
    {
     "data": {
      "image/png": "[encoded data removed]",
      "text/plain": [
       "<Figure size 432x288 with 1 Axes>"
      ]
     },
     "metadata": {
      "needs_background": "light"
     },
     "output_type": "display_data"
    }
   ],
   "source": [
    "import matplotlib.pyplot as plt\n",
    "\n",
    "# 用于保存每个最大层数剪枝对应的拟合度\n",
    "test = []\n",
    "\n",
    "for i in range(10):\n",
    "    clf = tree.DecisionTreeClassifier(max_depth = i+1\n",
    "                                     ,criterion = \"entropy\"\n",
    "                                     ,random_state = 30\n",
    "                                     ,splitter = \"random\"\n",
    "    )\n",
    "    \n",
    "    clf = clf.fit(Xtrain, Ytrain)\n",
    "    \n",
    "    score = clf.score(Xtest, Ytest)\n",
    "    test.append(score)\n",
    "    \n",
    "plt.plot(range(1,11),test,color=\"red\",label=\"max_depth\")\n",
    "plt.legend()\n",
    "plt.show()\n"
   ]
  },
  {
   "cell_type": "markdown",
   "id": "04eceb60",
   "metadata": {},
   "source": [
    "# 重要属性和接口"
   ]
  },
  {
   "cell_type": "code",
   "execution_count": 54,
   "id": "e0362b98",
   "metadata": {},
   "outputs": [
    {
     "data": {
      "text/plain": [
       "array([25, 20, 21, 21, 20, 25, 20, 12, 23, 25, 25, 20, 10,  4, 20, 21, 23,\n",
       "       20, 20, 20, 23,  4, 25, 25, 25, 14,  4, 25,  4, 16, 10,  4, 20, 20,\n",
       "       20, 20, 23, 25, 20, 25, 25,  4,  4, 21, 25, 21, 21, 21,  8, 14, 20,\n",
       "       25,  4,  8], dtype=int64)"
      ]
     },
     "execution_count": 54,
     "metadata": {},
     "output_type": "execute_result"
    }
   ],
   "source": [
    "# apply返回每个测试样本所在的叶子结点的索引\n",
    "clf.apply(Xtest)"
   ]
  },
  {
   "cell_type": "code",
   "execution_count": 55,
   "id": "87dbf7a3",
   "metadata": {},
   "outputs": [
    {
     "data": {
      "text/plain": [
       "array([0, 1, 0, 0, 1, 0, 1, 1, 1, 0, 0, 1, 2, 2, 1, 0, 1, 1, 1, 1, 1, 2,\n",
       "       0, 0, 0, 1, 2, 0, 2, 1, 2, 2, 1, 1, 1, 1, 1, 0, 1, 0, 0, 2, 2, 0,\n",
       "       0, 0, 0, 0, 2, 1, 1, 0, 2, 2])"
      ]
     },
     "execution_count": 55,
     "metadata": {},
     "output_type": "execute_result"
    }
   ],
   "source": [
    "# predict返回模型预测的数据的标签（与原数据集里的标签不一定相同）\n",
    "clf.predict(Xtest)"
   ]
  },
  {
   "cell_type": "markdown",
   "id": "590a4943",
   "metadata": {},
   "source": [
    "# 交叉验证"
   ]
  },
  {
   "cell_type": "code",
   "execution_count": 57,
   "id": "57068c33",
   "metadata": {},
   "outputs": [],
   "source": [
    "from sklearn.datasets import load_boston   # 波士顿房价数据\n",
    "from sklearn.model_selection import cross_val_score   # 导入交叉验证模块\n",
    "from sklearn.tree import DecisionTreeRegressor"
   ]
  },
  {
   "cell_type": "code",
   "execution_count": 63,
   "id": "f32b450b",
   "metadata": {
    "collapsed": true
   },
   "outputs": [
    {
     "data": {
      "text/plain": [
       "{'data': array([[6.3200e-03, 1.8000e+01, 2.3100e+00, ..., 1.5300e+01, 3.9690e+02,\n",
       "         4.9800e+00],\n",
       "        [2.7310e-02, 0.0000e+00, 7.0700e+00, ..., 1.7800e+01, 3.9690e+02,\n",
       "         9.1400e+00],\n",
       "        [2.7290e-02, 0.0000e+00, 7.0700e+00, ..., 1.7800e+01, 3.9283e+02,\n",
       "         4.0300e+00],\n",
       "        ...,\n",
       "        [6.0760e-02, 0.0000e+00, 1.1930e+01, ..., 2.1000e+01, 3.9690e+02,\n",
       "         5.6400e+00],\n",
       "        [1.0959e-01, 0.0000e+00, 1.1930e+01, ..., 2.1000e+01, 3.9345e+02,\n",
       "         6.4800e+00],\n",
       "        [4.7410e-02, 0.0000e+00, 1.1930e+01, ..., 2.1000e+01, 3.9690e+02,\n",
       "         7.8800e+00]]),\n",
       " 'target': array([24. , 21.6, 34.7, 33.4, 36.2, 28.7, 22.9, 27.1, 16.5, 18.9, 15. ,\n",
       "        18.9, 21.7, 20.4, 18.2, 19.9, 23.1, 17.5, 20.2, 18.2, 13.6, 19.6,\n",
       "        15.2, 14.5, 15.6, 13.9, 16.6, 14.8, 18.4, 21. , 12.7, 14.5, 13.2,\n",
       "        13.1, 13.5, 18.9, 20. , 21. , 24.7, 30.8, 34.9, 26.6, 25.3, 24.7,\n",
       "        21.2, 19.3, 20. , 16.6, 14.4, 19.4, 19.7, 20.5, 25. , 23.4, 18.9,\n",
       "        35.4, 24.7, 31.6, 23.3, 19.6, 18.7, 16. , 22.2, 25. , 33. , 23.5,\n",
       "        19.4, 22. , 17.4, 20.9, 24.2, 21.7, 22.8, 23.4, 24.1, 21.4, 20. ,\n",
       "        20.8, 21.2, 20.3, 28. , 23.9, 24.8, 22.9, 23.9, 26.6, 22.5, 22.2,\n",
       "        23.6, 28.7, 22.6, 22. , 22.9, 25. , 20.6, 28.4, 21.4, 38.7, 43.8,\n",
       "        33.2, 27.5, 26.5, 18.6, 19.3, 20.1, 19.5, 19.5, 20.4, 19.8, 19.4,\n",
       "        21.7, 22.8, 18.8, 18.7, 18.5, 18.3, 21.2, 19.2, 20.4, 19.3, 22. ,\n",
       "        20.3, 20.5, 17.3, 18.8, 21.4, 15.7, 16.2, 18. , 14.3, 19.2, 19.6,\n",
       "        23. , 18.4, 15.6, 18.1, 17.4, 17.1, 13.3, 17.8, 14. , 14.4, 13.4,\n",
       "        15.6, 11.8, 13.8, 15.6, 14.6, 17.8, 15.4, 21.5, 19.6, 15.3, 19.4,\n",
       "        17. , 15.6, 13.1, 41.3, 24.3, 23.3, 27. , 50. , 50. , 50. , 22.7,\n",
       "        25. , 50. , 23.8, 23.8, 22.3, 17.4, 19.1, 23.1, 23.6, 22.6, 29.4,\n",
       "        23.2, 24.6, 29.9, 37.2, 39.8, 36.2, 37.9, 32.5, 26.4, 29.6, 50. ,\n",
       "        32. , 29.8, 34.9, 37. , 30.5, 36.4, 31.1, 29.1, 50. , 33.3, 30.3,\n",
       "        34.6, 34.9, 32.9, 24.1, 42.3, 48.5, 50. , 22.6, 24.4, 22.5, 24.4,\n",
       "        20. , 21.7, 19.3, 22.4, 28.1, 23.7, 25. , 23.3, 28.7, 21.5, 23. ,\n",
       "        26.7, 21.7, 27.5, 30.1, 44.8, 50. , 37.6, 31.6, 46.7, 31.5, 24.3,\n",
       "        31.7, 41.7, 48.3, 29. , 24. , 25.1, 31.5, 23.7, 23.3, 22. , 20.1,\n",
       "        22.2, 23.7, 17.6, 18.5, 24.3, 20.5, 24.5, 26.2, 24.4, 24.8, 29.6,\n",
       "        42.8, 21.9, 20.9, 44. , 50. , 36. , 30.1, 33.8, 43.1, 48.8, 31. ,\n",
       "        36.5, 22.8, 30.7, 50. , 43.5, 20.7, 21.1, 25.2, 24.4, 35.2, 32.4,\n",
       "        32. , 33.2, 33.1, 29.1, 35.1, 45.4, 35.4, 46. , 50. , 32.2, 22. ,\n",
       "        20.1, 23.2, 22.3, 24.8, 28.5, 37.3, 27.9, 23.9, 21.7, 28.6, 27.1,\n",
       "        20.3, 22.5, 29. , 24.8, 22. , 26.4, 33.1, 36.1, 28.4, 33.4, 28.2,\n",
       "        22.8, 20.3, 16.1, 22.1, 19.4, 21.6, 23.8, 16.2, 17.8, 19.8, 23.1,\n",
       "        21. , 23.8, 23.1, 20.4, 18.5, 25. , 24.6, 23. , 22.2, 19.3, 22.6,\n",
       "        19.8, 17.1, 19.4, 22.2, 20.7, 21.1, 19.5, 18.5, 20.6, 19. , 18.7,\n",
       "        32.7, 16.5, 23.9, 31.2, 17.5, 17.2, 23.1, 24.5, 26.6, 22.9, 24.1,\n",
       "        18.6, 30.1, 18.2, 20.6, 17.8, 21.7, 22.7, 22.6, 25. , 19.9, 20.8,\n",
       "        16.8, 21.9, 27.5, 21.9, 23.1, 50. , 50. , 50. , 50. , 50. , 13.8,\n",
       "        13.8, 15. , 13.9, 13.3, 13.1, 10.2, 10.4, 10.9, 11.3, 12.3,  8.8,\n",
       "         7.2, 10.5,  7.4, 10.2, 11.5, 15.1, 23.2,  9.7, 13.8, 12.7, 13.1,\n",
       "        12.5,  8.5,  5. ,  6.3,  5.6,  7.2, 12.1,  8.3,  8.5,  5. , 11.9,\n",
       "        27.9, 17.2, 27.5, 15. , 17.2, 17.9, 16.3,  7. ,  7.2,  7.5, 10.4,\n",
       "         8.8,  8.4, 16.7, 14.2, 20.8, 13.4, 11.7,  8.3, 10.2, 10.9, 11. ,\n",
       "         9.5, 14.5, 14.1, 16.1, 14.3, 11.7, 13.4,  9.6,  8.7,  8.4, 12.8,\n",
       "        10.5, 17.1, 18.4, 15.4, 10.8, 11.8, 14.9, 12.6, 14.1, 13. , 13.4,\n",
       "        15.2, 16.1, 17.8, 14.9, 14.1, 12.7, 13.5, 14.9, 20. , 16.4, 17.7,\n",
       "        19.5, 20.2, 21.4, 19.9, 19. , 19.1, 19.1, 20.1, 19.9, 19.6, 23.2,\n",
       "        29.8, 13.8, 13.3, 16.7, 12. , 14.6, 21.4, 23. , 23.7, 25. , 21.8,\n",
       "        20.6, 21.2, 19.1, 20.6, 15.2,  7. ,  8.1, 13.6, 20.1, 21.8, 24.5,\n",
       "        23.1, 19.7, 18.3, 21.2, 17.5, 16.8, 22.4, 20.6, 23.9, 22. , 11.9]),\n",
       " 'feature_names': array(['CRIM', 'ZN', 'INDUS', 'CHAS', 'NOX', 'RM', 'AGE', 'DIS', 'RAD',\n",
       "        'TAX', 'PTRATIO', 'B', 'LSTAT'], dtype='<U7'),\n",
       " 'DESCR': \".. _boston_dataset:\\n\\nBoston house prices dataset\\n---------------------------\\n\\n**Data Set Characteristics:**  \\n\\n    :Number of Instances: 506 \\n\\n    :Number of Attributes: 13 numeric/categorical predictive. Median Value (attribute 14) is usually the target.\\n\\n    :Attribute Information (in order):\\n        - CRIM     per capita crime rate by town\\n        - ZN       proportion of residential land zoned for lots over 25,000 sq.ft.\\n        - INDUS    proportion of non-retail business acres per town\\n        - CHAS     Charles River dummy variable (= 1 if tract bounds river; 0 otherwise)\\n        - NOX      nitric oxides concentration (parts per 10 million)\\n        - RM       average number of rooms per dwelling\\n        - AGE      proportion of owner-occupied units built prior to 1940\\n        - DIS      weighted distances to five Boston employment centres\\n        - RAD      index of accessibility to radial highways\\n        - TAX      full-value property-tax rate per $10,000\\n        - PTRATIO  pupil-teacher ratio by town\\n        - B        1000(Bk - 0.63)^2 where Bk is the proportion of blacks by town\\n        - LSTAT    % lower status of the population\\n        - MEDV     Median value of owner-occupied homes in $1000's\\n\\n    :Missing Attribute Values: None\\n\\n    :Creator: Harrison, D. and Rubinfeld, D.L.\\n\\nThis is a copy of UCI ML housing dataset.\\nhttps://archive.ics.uci.edu/ml/machine-learning-databases/housing/\\n\\n\\nThis dataset was taken from the StatLib library which is maintained at Carnegie Mellon University.\\n\\nThe Boston house-price data of Harrison, D. and Rubinfeld, D.L. 'Hedonic\\nprices and the demand for clean air', J. Environ. Economics & Management,\\nvol.5, 81-102, 1978.   Used in Belsley, Kuh & Welsch, 'Regression diagnostics\\n...', Wiley, 1980.   N.B. Various transformations are used in the table on\\npages 244-261 of the latter.\\n\\nThe Boston house-price data has been used in many machine learning papers that address regression\\nproblems.   \\n     \\n.. topic:: References\\n\\n   - Belsley, Kuh & Welsch, 'Regression diagnostics: Identifying Influential Data and Sources of Collinearity', Wiley, 1980. 244-261.\\n   - Quinlan,R. (1993). Combining Instance-Based and Model-Based Learning. In Proceedings on the Tenth International Conference of Machine Learning, 236-243, University of Massachusetts, Amherst. Morgan Kaufmann.\\n\",\n",
       " 'filename': 'C:\\\\ProgramData\\\\Anaconda3\\\\lib\\\\site-packages\\\\sklearn\\\\datasets\\\\data\\\\boston_house_prices.csv'}"
      ]
     },
     "execution_count": 63,
     "metadata": {},
     "output_type": "execute_result"
    }
   ],
   "source": [
    "boston = load_boston()    # 导入boston数据\n",
    "boston          # 字典"
   ]
  },
  {
   "cell_type": "code",
   "execution_count": 62,
   "id": "d00e6962",
   "metadata": {
    "collapsed": true
   },
   "outputs": [
    {
     "data": {
      "text/plain": [
       "array([[6.3200e-03, 1.8000e+01, 2.3100e+00, ..., 1.5300e+01, 3.9690e+02,\n",
       "        4.9800e+00],\n",
       "       [2.7310e-02, 0.0000e+00, 7.0700e+00, ..., 1.7800e+01, 3.9690e+02,\n",
       "        9.1400e+00],\n",
       "       [2.7290e-02, 0.0000e+00, 7.0700e+00, ..., 1.7800e+01, 3.9283e+02,\n",
       "        4.0300e+00],\n",
       "       ...,\n",
       "       [6.0760e-02, 0.0000e+00, 1.1930e+01, ..., 2.1000e+01, 3.9690e+02,\n",
       "        5.6400e+00],\n",
       "       [1.0959e-01, 0.0000e+00, 1.1930e+01, ..., 2.1000e+01, 3.9345e+02,\n",
       "        6.4800e+00],\n",
       "       [4.7410e-02, 0.0000e+00, 1.1930e+01, ..., 2.1000e+01, 3.9690e+02,\n",
       "        7.8800e+00]])"
      ]
     },
     "execution_count": 62,
     "metadata": {},
     "output_type": "execute_result"
    }
   ],
   "source": [
    "# boston数据\n",
    "boston.data"
   ]
  },
  {
   "cell_type": "code",
   "execution_count": 61,
   "id": "94e30046",
   "metadata": {
    "collapsed": true
   },
   "outputs": [
    {
     "data": {
      "text/plain": [
       "array([24. , 21.6, 34.7, 33.4, 36.2, 28.7, 22.9, 27.1, 16.5, 18.9, 15. ,\n",
       "       18.9, 21.7, 20.4, 18.2, 19.9, 23.1, 17.5, 20.2, 18.2, 13.6, 19.6,\n",
       "       15.2, 14.5, 15.6, 13.9, 16.6, 14.8, 18.4, 21. , 12.7, 14.5, 13.2,\n",
       "       13.1, 13.5, 18.9, 20. , 21. , 24.7, 30.8, 34.9, 26.6, 25.3, 24.7,\n",
       "       21.2, 19.3, 20. , 16.6, 14.4, 19.4, 19.7, 20.5, 25. , 23.4, 18.9,\n",
       "       35.4, 24.7, 31.6, 23.3, 19.6, 18.7, 16. , 22.2, 25. , 33. , 23.5,\n",
       "       19.4, 22. , 17.4, 20.9, 24.2, 21.7, 22.8, 23.4, 24.1, 21.4, 20. ,\n",
       "       20.8, 21.2, 20.3, 28. , 23.9, 24.8, 22.9, 23.9, 26.6, 22.5, 22.2,\n",
       "       23.6, 28.7, 22.6, 22. , 22.9, 25. , 20.6, 28.4, 21.4, 38.7, 43.8,\n",
       "       33.2, 27.5, 26.5, 18.6, 19.3, 20.1, 19.5, 19.5, 20.4, 19.8, 19.4,\n",
       "       21.7, 22.8, 18.8, 18.7, 18.5, 18.3, 21.2, 19.2, 20.4, 19.3, 22. ,\n",
       "       20.3, 20.5, 17.3, 18.8, 21.4, 15.7, 16.2, 18. , 14.3, 19.2, 19.6,\n",
       "       23. , 18.4, 15.6, 18.1, 17.4, 17.1, 13.3, 17.8, 14. , 14.4, 13.4,\n",
       "       15.6, 11.8, 13.8, 15.6, 14.6, 17.8, 15.4, 21.5, 19.6, 15.3, 19.4,\n",
       "       17. , 15.6, 13.1, 41.3, 24.3, 23.3, 27. , 50. , 50. , 50. , 22.7,\n",
       "       25. , 50. , 23.8, 23.8, 22.3, 17.4, 19.1, 23.1, 23.6, 22.6, 29.4,\n",
       "       23.2, 24.6, 29.9, 37.2, 39.8, 36.2, 37.9, 32.5, 26.4, 29.6, 50. ,\n",
       "       32. , 29.8, 34.9, 37. , 30.5, 36.4, 31.1, 29.1, 50. , 33.3, 30.3,\n",
       "       34.6, 34.9, 32.9, 24.1, 42.3, 48.5, 50. , 22.6, 24.4, 22.5, 24.4,\n",
       "       20. , 21.7, 19.3, 22.4, 28.1, 23.7, 25. , 23.3, 28.7, 21.5, 23. ,\n",
       "       26.7, 21.7, 27.5, 30.1, 44.8, 50. , 37.6, 31.6, 46.7, 31.5, 24.3,\n",
       "       31.7, 41.7, 48.3, 29. , 24. , 25.1, 31.5, 23.7, 23.3, 22. , 20.1,\n",
       "       22.2, 23.7, 17.6, 18.5, 24.3, 20.5, 24.5, 26.2, 24.4, 24.8, 29.6,\n",
       "       42.8, 21.9, 20.9, 44. , 50. , 36. , 30.1, 33.8, 43.1, 48.8, 31. ,\n",
       "       36.5, 22.8, 30.7, 50. , 43.5, 20.7, 21.1, 25.2, 24.4, 35.2, 32.4,\n",
       "       32. , 33.2, 33.1, 29.1, 35.1, 45.4, 35.4, 46. , 50. , 32.2, 22. ,\n",
       "       20.1, 23.2, 22.3, 24.8, 28.5, 37.3, 27.9, 23.9, 21.7, 28.6, 27.1,\n",
       "       20.3, 22.5, 29. , 24.8, 22. , 26.4, 33.1, 36.1, 28.4, 33.4, 28.2,\n",
       "       22.8, 20.3, 16.1, 22.1, 19.4, 21.6, 23.8, 16.2, 17.8, 19.8, 23.1,\n",
       "       21. , 23.8, 23.1, 20.4, 18.5, 25. , 24.6, 23. , 22.2, 19.3, 22.6,\n",
       "       19.8, 17.1, 19.4, 22.2, 20.7, 21.1, 19.5, 18.5, 20.6, 19. , 18.7,\n",
       "       32.7, 16.5, 23.9, 31.2, 17.5, 17.2, 23.1, 24.5, 26.6, 22.9, 24.1,\n",
       "       18.6, 30.1, 18.2, 20.6, 17.8, 21.7, 22.7, 22.6, 25. , 19.9, 20.8,\n",
       "       16.8, 21.9, 27.5, 21.9, 23.1, 50. , 50. , 50. , 50. , 50. , 13.8,\n",
       "       13.8, 15. , 13.9, 13.3, 13.1, 10.2, 10.4, 10.9, 11.3, 12.3,  8.8,\n",
       "        7.2, 10.5,  7.4, 10.2, 11.5, 15.1, 23.2,  9.7, 13.8, 12.7, 13.1,\n",
       "       12.5,  8.5,  5. ,  6.3,  5.6,  7.2, 12.1,  8.3,  8.5,  5. , 11.9,\n",
       "       27.9, 17.2, 27.5, 15. , 17.2, 17.9, 16.3,  7. ,  7.2,  7.5, 10.4,\n",
       "        8.8,  8.4, 16.7, 14.2, 20.8, 13.4, 11.7,  8.3, 10.2, 10.9, 11. ,\n",
       "        9.5, 14.5, 14.1, 16.1, 14.3, 11.7, 13.4,  9.6,  8.7,  8.4, 12.8,\n",
       "       10.5, 17.1, 18.4, 15.4, 10.8, 11.8, 14.9, 12.6, 14.1, 13. , 13.4,\n",
       "       15.2, 16.1, 17.8, 14.9, 14.1, 12.7, 13.5, 14.9, 20. , 16.4, 17.7,\n",
       "       19.5, 20.2, 21.4, 19.9, 19. , 19.1, 19.1, 20.1, 19.9, 19.6, 23.2,\n",
       "       29.8, 13.8, 13.3, 16.7, 12. , 14.6, 21.4, 23. , 23.7, 25. , 21.8,\n",
       "       20.6, 21.2, 19.1, 20.6, 15.2,  7. ,  8.1, 13.6, 20.1, 21.8, 24.5,\n",
       "       23.1, 19.7, 18.3, 21.2, 17.5, 16.8, 22.4, 20.6, 23.9, 22. , 11.9])"
      ]
     },
     "execution_count": 61,
     "metadata": {},
     "output_type": "execute_result"
    }
   ],
   "source": [
    "# boston标签\n",
    "boston.target"
   ]
  },
  {
   "cell_type": "code",
   "execution_count": 65,
   "id": "53d070dd",
   "metadata": {},
   "outputs": [
    {
     "data": {
      "text/plain": [
       "array([-18.08941176, -10.61843137, -16.31843137, -44.97803922,\n",
       "       -17.12509804, -49.71509804, -12.9986    , -88.4514    ,\n",
       "       -55.7914    , -25.0816    ])"
      ]
     },
     "execution_count": 65,
     "metadata": {},
     "output_type": "execute_result"
    }
   ],
   "source": [
    "regressor = DecisionTreeRegressor(random_state = 0)   # 实例化\n",
    "# 交叉验证\n",
    "# cv-->将数据分为几份\n",
    "# scoring-->默认为R平方\n",
    "# neg_mean_squared_error-->均方误差，默认为负值\n",
    "cross_val_score(regressor, boston.data, boston.target, cv= 10, scoring=\"neg_mean_squared_error\")"
   ]
  },
  {
   "cell_type": "markdown",
   "id": "2910585b",
   "metadata": {},
   "source": [
    "# 一维回归拟合正弦曲线"
   ]
  },
  {
   "cell_type": "markdown",
   "id": "fba758db",
   "metadata": {},
   "source": [
    "## 1.导入需要的库"
   ]
  },
  {
   "cell_type": "code",
   "execution_count": 83,
   "id": "a446ecaf",
   "metadata": {},
   "outputs": [],
   "source": [
    "import numpy as np\n",
    "from matplotlib import pyplot as plt\n",
    "from sklearn.tree import DecisionTreeRegressor"
   ]
  },
  {
   "cell_type": "markdown",
   "id": "516a008b",
   "metadata": {},
   "source": [
    "## 2.创建一条含有噪声的正弦曲线"
   ]
  },
  {
   "cell_type": "code",
   "execution_count": 84,
   "id": "3ea2cd35",
   "metadata": {},
   "outputs": [],
   "source": [
    "# 固定随机数生成模式\n",
    "rng = np.random.RandomState(1)\n",
    "\n",
    "# 生成80个0~`5的随机数字作为横坐标，需要排序\n",
    "x = np.sort(5*rng.rand(80,1),axis=0)\n",
    "\n",
    "# 生成正弦曲线，y值需要作为一维，由于x值为二维，需要降维\n",
    "y = np.sin(x).ravel()\n",
    "\n",
    "# 创建噪声\n",
    "y[::5] = y[::5] + 3*(0.5 - rng.rand(16))\n"
   ]
  },
  {
   "cell_type": "code",
   "execution_count": 92,
   "id": "00f9ccbf",
   "metadata": {},
   "outputs": [
    {
     "data": {
      "text/plain": [
       "array([0.83893214, 0.3874273 , 0.73618635])"
      ]
     },
     "execution_count": 92,
     "metadata": {},
     "output_type": "execute_result"
    }
   ],
   "source": [
    "# ravel-->降维为一维\n",
    "np.random.random((3,1)).ravel()"
   ]
  },
  {
   "cell_type": "markdown",
   "id": "a7ac8244",
   "metadata": {},
   "source": [
    "## 3.实例化训练模型"
   ]
  },
  {
   "cell_type": "code",
   "execution_count": 85,
   "id": "27896acc",
   "metadata": {},
   "outputs": [
    {
     "data": {
      "text/plain": [
       "DecisionTreeRegressor(max_depth=5)"
      ]
     },
     "execution_count": 85,
     "metadata": {},
     "output_type": "execute_result"
    }
   ],
   "source": [
    "regr_1 = DecisionTreeRegressor(max_depth=2)\n",
    "regr_2 = DecisionTreeRegressor(max_depth=5)\n",
    "regr_1.fit(x,y)\n",
    "regr_2.fit(x,y)"
   ]
  },
  {
   "cell_type": "markdown",
   "id": "6046149c",
   "metadata": {},
   "source": [
    "## 4.测试集导入模型，预测结果"
   ]
  },
  {
   "cell_type": "code",
   "execution_count": 86,
   "id": "efad28f8",
   "metadata": {},
   "outputs": [],
   "source": [
    "# 生成测试集数据\n",
    "# 生成0~5的数据，由于sklearn要求输入数据为二维，要升维\n",
    "X_test = np.arange(0,5,0.01)[:,np.newaxis]\n",
    "y_1 = regr_1.predict(X_test)\n",
    "y_2 = regr_2.predict(X_test)"
   ]
  },
  {
   "cell_type": "code",
   "execution_count": 103,
   "id": "6b5ea61d",
   "metadata": {},
   "outputs": [
    {
     "data": {
      "text/plain": [
       "array([[0, 1, 2, 3]])"
      ]
     },
     "execution_count": 103,
     "metadata": {},
     "output_type": "execute_result"
    }
   ],
   "source": [
    "l = np.arange(4)\n",
    "# l"
   ]
  },
  {
   "cell_type": "code",
   "execution_count": 104,
   "id": "c65b52de",
   "metadata": {},
   "outputs": [
    {
     "data": {
      "text/plain": [
       "array([[0],\n",
       "       [1],\n",
       "       [2],\n",
       "       [3]])"
      ]
     },
     "execution_count": 104,
     "metadata": {},
     "output_type": "execute_result"
    }
   ],
   "source": [
    "\n",
    "l[:,np.newaxis]"
   ]
  },
  {
   "cell_type": "code",
   "execution_count": 105,
   "id": "41a1a4e1",
   "metadata": {},
   "outputs": [
    {
     "data": {
      "text/plain": [
       "array([[0, 1, 2, 3]])"
      ]
     },
     "execution_count": 105,
     "metadata": {},
     "output_type": "execute_result"
    }
   ],
   "source": [
    "l[np.newaxis,:]"
   ]
  },
  {
   "cell_type": "markdown",
   "id": "aa1dc12f",
   "metadata": {},
   "source": [
    "## 5.绘制图像"
   ]
  },
  {
   "cell_type": "code",
   "execution_count": 87,
   "id": "bbeacd86",
   "metadata": {},
   "outputs": [
    {
     "data": {
      "image/png": "[encoded data removed]",
      "text/plain": [
       "<Figure size 432x288 with 1 Axes>"
      ]
     },
     "metadata": {
      "needs_background": "light"
     },
     "output_type": "display_data"
    }
   ],
   "source": [
    "plt.figure()\n",
    "plt.scatter(x,y,edgecolor=\"black\",c= \"darkorange\",label=\"data\")\n",
    "plt.plot(X_test,y_1,color=\"cornflowerblue\",label=\"max_depth=2\",linewidth=2)\n",
    "plt.plot(X_test,y_2,color=\"yellowgreen\",label=\"max_depth=5\",linewidth=2)\n",
    "plt.xlabel(\"data\")\n",
    "plt.ylabel(\"target\")\n",
    "plt.title(\"Decision Tree Regression\")\n",
    "plt.legend()\n",
    "plt.show()"
   ]
  },
  {
   "cell_type": "code",
   "execution_count": null,
   "id": "d1910466",
   "metadata": {},
   "outputs": [],
   "source": []
  },
  {
   "cell_type": "code",
   "execution_count": null,
   "id": "7ba5869e",
   "metadata": {},
   "outputs": [],
   "source": []
  },
  {
   "cell_type": "code",
   "execution_count": null,
   "id": "bc32d1a5",
   "metadata": {},
   "outputs": [],
   "source": []
  },
  {
   "cell_type": "code",
   "execution_count": null,
   "id": "64b39d4e",
   "metadata": {},
   "outputs": [],
   "source": []
  },
  {
   "cell_type": "code",
   "execution_count": null,
   "id": "2fb76cbe",
   "metadata": {},
   "outputs": [],
   "source": []
  },
  {
   "cell_type": "code",
   "execution_count": null,
   "id": "99fbac0c",
   "metadata": {},
   "outputs": [],
   "source": []
  },
  {
   "cell_type": "code",
   "execution_count": null,
   "id": "b60bf1be",
   "metadata": {},
   "outputs": [],
   "source": []
  },
  {
   "cell_type": "code",
   "execution_count": null,
   "id": "36864afc",
   "metadata": {},
   "outputs": [],
   "source": []
  },
  {
   "cell_type": "code",
   "execution_count": null,
   "id": "9b4df16d",
   "metadata": {},
   "outputs": [],
   "source": []
  },
  {
   "cell_type": "code",
   "execution_count": null,
   "id": "fd22235a",
   "metadata": {},
   "outputs": [],
   "source": []
  }
 ],
 "metadata": {
  "kernelspec": {
   "display_name": "Python 3",
   "language": "python",
   "name": "python3"
  },
  "language_info": {
   "codemirror_mode": {
    "name": "ipython",
    "version": 3
   },
   "file_extension": ".py",
   "mimetype": "text/x-python",
   "name": "python",
   "nbconvert_exporter": "python",
   "pygments_lexer": "ipython3",
   "version": "3.8.8"
  }
 },
 "nbformat": 4,
 "nbformat_minor": 5
}
